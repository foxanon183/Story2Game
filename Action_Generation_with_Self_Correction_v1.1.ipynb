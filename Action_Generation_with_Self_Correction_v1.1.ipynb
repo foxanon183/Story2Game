{
  "cells": [
    {
      "attachments": {},
      "cell_type": "markdown",
      "metadata": {
        "id": "avj-RkF3W5HV"
      },
      "source": [
        "# Install the unofficial API for ChatGPT. You will need to restart the notebook after this cell"
      ]
    },
    {
      "cell_type": "code",
      "execution_count": 1,
      "metadata": {},
      "outputs": [
        {
          "data": {
            "text/plain": [
              "'The sun sets over the horizon, casting a vibrant display of colors across the sky.'"
            ]
          },
          "execution_count": 1,
          "metadata": {},
          "output_type": "execute_result"
        }
      ],
      "source": [
        "from llm.chatgpt import ChatGPT\n",
        "\n",
        "chatgpt_model = 'gpt-3.5-turbo'\n",
        "\n",
        "chatgpt = ChatGPT() # I sent the API key on Slack. create a file called openai_key.txt in the llm folder and put the key in it.\n",
        "def chatgpt_call(prompt):\n",
        "    return chatgpt.get_response(prompt)\n",
        "\n",
        "chatgpt_call(\"Generate one random sentence.\")"
      ]
    },
    {
      "cell_type": "code",
      "execution_count": null,
      "metadata": {
        "colab": {
          "base_uri": "https://localhost:8080/"
        },
        "id": "HGeZW674acmZ",
        "outputId": "08ec1b66-1fb3-4a5a-a164-4fb6837193f7"
      },
      "outputs": [
        {
          "name": "stderr",
          "output_type": "stream",
          "text": [
            "[nltk_data] Downloading package wordnet to /home/chunhao/nltk_data...\n",
            "[nltk_data]   Package wordnet is already up-to-date!\n"
          ]
        }
      ],
      "source": [
        "\n",
        "from utils import *\n",
        "\n",
        "from typing import Dict, List, Union, Tuple, Any, Set, Type, ClassVar, Literal, Callable\n",
        "\n",
        "from copy import deepcopy\n",
        "\n",
        "import json\n",
        "\n",
        "import unittest\n",
        "\n",
        "from type import Coordinate, Direction\n",
        "\n",
        "from nodes import Node, Room, Character, Item, Player\n",
        "\n",
        "from world import World\n",
        "\n",
        "\n",
        "\n",
        "from game import *\n",
        "from collections import defaultdict\n",
        "from difflib import get_close_matches\n",
        "import nltk\n",
        "import copy\n",
        "import re\n",
        "\n",
        "\n",
        "nltk.download('wordnet')\n",
        "lemmatizer = nltk.stem.WordNetLemmatizer()\n",
        "lemmatizer.lemmatize(\"werewolf\")\n",
        "\n",
        "def get_lemma(s):\n",
        "    s = s.strip()\n",
        "    if s[:2]=='a ' or s[:2]=='A ':\n",
        "        s = s[2:]\n",
        "    elif s[:3]=='an ' or s[:3]=='An ':\n",
        "        s = s[3:]\n",
        "    elif s[:4]=='the ' or s[:4]=='The ':\n",
        "        s = s[4:]\n",
        "    lemma = lemmatizer.lemmatize(s)\n",
        "    return lemma\n",
        "\n",
        "def edit_distance(s1, s2):\n",
        "    m=len(s1)+1\n",
        "    n=len(s2)+1\n",
        "\n",
        "    tbl = {}\n",
        "    for i in range(m): tbl[i,0]=i\n",
        "    for j in range(n): tbl[0,j]=j\n",
        "    for i in range(1, m):\n",
        "        for j in range(1, n):\n",
        "            cost = 0 if s1[i-1] == s2[j-1] else 1\n",
        "            tbl[i,j] = min(tbl[i, j-1]+1, tbl[i-1, j]+1, tbl[i-1, j-1]+cost)\n",
        "\n",
        "    return tbl[i,j]\n",
        "\n",
        "MOVE_PATTERN = r'^Move \\{[a-z1-9 \\(\\)]+\\} to \\{[a-z1-9. \\(\\)]+\\}$'\n",
        "ADD_PATTERN = r'^Add \\{[a-z1-9 \\(\\)]+\\}$'\n",
        "DELETE_PATTERN = r'^Delete \\{[a-z1-9 \\(\\)]+\\}$'\n",
        "DISPLAY_PATTERN = r'^Display \\{[a-z1-9._ \\(\\)]+\\}$'\n",
        "SET_ATTRIBUTES_PATTERN = r'^Set \\{[a-z1-9._ \\(\\)]+\\} to \\{(True|False|AnyValue)\\}$'\n",
        "\n",
        "\n",
        "class GameEngine:\n",
        "    def __init__(self, map:Dict, game_logics:Dict):\n",
        "        self.map = map\n",
        "        self.game_logics = game_logics\n",
        "        self.world = World(configurations={\"map_size\":(1,len(self.map))})\n",
        "        self.action_state = defaultdict(lambda : False)\n",
        "        self.action_template = defaultdict(int)\n",
        "        self.action_general_constraints = defaultdict(list)\n",
        "        self.action_game_related_constraints = defaultdict(list)\n",
        "        self.action_effects = defaultdict(list)\n",
        "        self.keywords_to_game_logic_action_map = []\n",
        "        self.obtainable_item_to_game_logic_action_map = defaultdict(list)\n",
        "        self.locations = [] # list of Room\n",
        "        self.items = [] # list of Item\n",
        "        self.npcs = [] # list of Character\n",
        "        self.locations_ptrs = {} # dict of Room\n",
        "        self.items_ptrs = {} # dict of Item\n",
        "        self.npcs_ptrs = {} # dict of Character\n",
        "        self.num_of_actions = 0\n",
        "        self.pos_cnt = 0\n",
        "        \n",
        "        # TODO: descriptions for nodes should be provided or generated\n",
        "        for location in self.map:\n",
        "            # originally location starts with 'at _____'\n",
        "            print(\"add node:\",location[3:]) \n",
        "            self.locations.append(Room(location[3:], \"You are \"+location))\n",
        "            self.locations_ptrs[location[3:]]=self.locations[-1]\n",
        "            for entity in self.map[location]:\n",
        "                if entity['type']=='npc':\n",
        "                    npc_name = get_lemma(entity['content'][4:]) # originally npc starts with 'has _____' in the map dict\n",
        "                    print(\"add node:\",npc_name)\n",
        "                    self.npcs.append(Character(npc_name,\"A \"+entity['content'][4:]))\n",
        "                    self.npcs_ptrs[npc_name]=self.npcs[-1]\n",
        "                    self.world.add_node(self.npcs[-1],self.locations[-1])\n",
        "                elif entity['type']=='item':\n",
        "                    item_name = get_lemma(entity['content'][4:]) # originally item starts with 'has _____' in the map dict\n",
        "                    print(\"add node:\",item_name)\n",
        "                    self.items.append(Item(item_name,\"A \"+entity['content'][4:]))\n",
        "                    self.items_ptrs[item_name]=self.items[-1]\n",
        "                    self.world.add_node(self.items[-1],self.locations[-1])\n",
        "            print('location on map',(0, self.pos_cnt))\n",
        "            self.world.add_room(self.locations[-1], (0, self.pos_cnt))\n",
        "            self.pos_cnt += 1     #TODO: this version doesn't care about how rooms are arraged\n",
        "\n",
        "        # TODO: Player goal and description should be provided or generated\n",
        "        self.player = Player(\"Player\", description=\"You are the player.\", goal=\"\")\n",
        "        #self.items.append(Item(\"money\",\"A \"+\"money\"))\n",
        "        #self.items_ptrs[\"money\"]=self.items[-1]\n",
        "        \n",
        "        self.world.add_node(self.player, self.locations[0])\n",
        "        self.world.add_node(self.items[-1],self.player)\n",
        "\n",
        "        print(self.items_ptrs)\n",
        "        print(self.npcs_ptrs)\n",
        "        print(self.locations_ptrs)\n",
        "\n",
        "    def copy_constructor(self,origin) -> None:\n",
        "        print(origin.__dict__)\n",
        "        for k in origin.__dict__:\n",
        "            print(k)\n",
        "            setattr(self,k,copy.deepcopy(getattr(origin,k)))\n",
        "\n",
        "    def save(self, world_file_name, engine_file_name, indent=4) -> None:\n",
        "        # save game world\n",
        "        self.world.save(world_file_name, indent=indent)\n",
        "\n",
        "        # save game engine\n",
        "        game_engine_data = {}\n",
        "        for key in self.__dict__.keys():\n",
        "            if key in ['world', 'locations', 'items', 'npcs', 'locations_ptrs', 'items_ptrs', 'npcs_ptrs', 'player']:\n",
        "                continue\n",
        "            else:\n",
        "                game_engine_data[key] = copy.deepcopy(getattr(self, key))\n",
        "\n",
        "        with open(engine_file_name, 'w', encoding = 'utf8') as f:\n",
        "            f.write(json.dumps(game_engine_data, ensure_ascii=False, indent = indent))\n",
        "\n",
        "    def load(self, world_file_name, engine_file_name) -> None:\n",
        "        # load\n",
        "        self.world = World.load(world_file_name)\n",
        "        replay_game_engine_data = json.load(open(engine_file_name, 'r', encoding = 'utf8'))\n",
        "        for key in replay_game_engine_data:\n",
        "            setattr(self, key, replay_game_engine_data[key])\n",
        "\n",
        "    def register_action(self, action_template:str) -> bool:\n",
        "        # gives an action a unique id, returns True if the action is successfully registered\n",
        "        if self.action_template[action_template]>0:\n",
        "            return False\n",
        "        self.num_of_actions += 1\n",
        "        self.action_template[action_template] = self.num_of_actions\n",
        "        return True\n",
        "\n",
        "    def add_game_related_constraint(self, action_template, constraint):\n",
        "        pass\n",
        "        #TODO: not very important for now\n",
        "\n",
        "    def add_action_effect(self, action_template:str, effect:str) -> None:\n",
        "        assert self.action_template[action_template]>=1 # action_template must be registered and has an id\n",
        "        if re.match(ADD_PATTERN,effect) or re.match(MOVE_PATTERN,effect) or re.match(DELETE_PATTERN,effect) or re.match(DISPLAY_PATTERN,effect) or re.match(SET_ATTRIBUTES_PATTERN,effect):\n",
        "            self.action_effects[action_template].append(effect.strip())\n",
        "\n",
        "    def apply_action(self,action_template:str, parameters, parametric_fields_attributes,replay_game_engine:Union['GameEngine', None]=None) -> None:\n",
        "        '''\n",
        "        Execute an action, apply the effects to the game world\n",
        "        replay_game_engine does not apply the effects, but just checks the conditions and adds the action to the action list.\n",
        "        TODO: this function needs refactoring. use the Action class. Also remove the replay_game_engine parameter in the future. Modifications to replay_game_engine should be done in (Reference 1) (Search comment \"Reference 1\")\n",
        "        '''\n",
        "        assert self.action_template[action_template]>=1\n",
        "        move_action = []\n",
        "        set_action = []\n",
        "        add_action = []\n",
        "        display_action = []\n",
        "        delete_action = []\n",
        "\n",
        "        self.action_general_constraints[action_template] = copy.deepcopy(parametric_fields_attributes)\n",
        "\n",
        "        \n",
        "        '''\n",
        "        Preprocessing：parametric_fields_attributes keys are replaced by the corresponding entity names\n",
        "        '''\n",
        "        # Example: parameters {'enum(object)': 'book;sign'}\n",
        "        # Example: parametric_fields_attributes {'enum(object)': {'is_enum_object': 'True', 'is_readable': 'AnyValue', 'message': 'AnyValue'}}\n",
        "        temp_parametric_fields_attributes = {}\n",
        "        for param in parameters:\n",
        "            parameters[param] = parameters[param].split(';')\n",
        "            #print(parametric_fields_attributes)\n",
        "            attr_list = parametric_fields_attributes[param]\n",
        "            for entity in parameters[param]:\n",
        "                temp_parametric_fields_attributes[entity] = copy.deepcopy(attr_list)\n",
        "        parametric_fields_attributes = temp_parametric_fields_attributes\n",
        "\n",
        "        # Example after processing: \n",
        "        # parameters {'enum(object)': ['book', 'sign']}\n",
        "        # parametric_fields_attributes {'book': {'is_enum_object': 'True', 'is_readable': 'AnyValue', 'message': 'AnyValue'}, 'sign': {'is_enum_object': 'True', 'is_readable': 'AnyValue', 'message': 'AnyValue'}}\n",
        "\n",
        "        '''\n",
        "        Register attributes to the World\n",
        "        TODO: is_enum_object and is_object should be merged, same for is_enum_npc and is_npc\n",
        "        '''\n",
        "        for entity in parametric_fields_attributes:\n",
        "            if \"is_enum_object\" in parametric_fields_attributes[entity] or \"is_object\" in parametric_fields_attributes[entity]:\n",
        "                for attribute in parametric_fields_attributes[entity]:\n",
        "                    self.world.register_new_attribute(Item, attribute, str, 'AnyValue')  #note: the register_new_attribute method won't change an existing attribute\n",
        "            elif \"is_enum_npc\" in parametric_fields_attributes[entity] or \"is_npc\" in parametric_fields_attributes[entity]:\n",
        "                for attribute in parametric_fields_attributes[entity]:\n",
        "                    self.world.register_new_attribute(Character, attribute, str, 'AnyValue')  #note: the register_new_attribute method won't change an existing attribute\n",
        "            elif \"is_enum_room\" in parametric_fields_attributes[entity] or \"is_room\" in parametric_fields_attributes[entity]:\n",
        "                for attribute in parametric_fields_attributes[entity]:\n",
        "                    self.world.register_new_attribute(Room, attribute, str, 'AnyValue')  #note: the register_new_attribute method won't change an existing attribute\n",
        "        \n",
        "\n",
        "        '''\n",
        "        The following code checks the conditions of the action and raises an exception if the conditions are not met.\n",
        "        TODO: Use the Condition class.\n",
        "        '''\n",
        "        # parameter_alias is a dictionary that maps the names in the parameters to the real names of the entities in the game world. usually should be the same.\n",
        "        parameter_alias = {} \n",
        "        #print(parameters)\n",
        "        #print(parametric_fields_attributes)\n",
        "        for entity in parameters:\n",
        "            if 'npc' in entity:\n",
        "                for t in parameters[entity]:\n",
        "                    alias = get_alias(self.npcs_ptrs.keys(), t) # alias is the real name of the npc.\n",
        "                    if edit_distance(alias,get_lemma(t))>0: \n",
        "                        # This section of the code should be executed sparingly! \n",
        "                        # We have added npcs in the constructor of the game engine. \n",
        "                        # The same npc should not be added twice.\n",
        "                        # It seems that the only case where this section of the code is executed is when something from 'game_logic' is not added.\n",
        "                        # Any other case, if happens, should be considered a bug (e.g. case issues causing edit distance to be larger than 0).\n",
        "                        # TODO: Check if we can remove this section of the code, and add npcs and items from 'game_logic' in the constructor of the game engine.\n",
        "                        alias = get_lemma(t)\n",
        "                        self.npcs.append(Character(alias,\"A \"+t))\n",
        "                        self.npcs_ptrs[alias]=self.npcs[-1]\n",
        "                        print(\"add node:\",alias)\n",
        "                        self.world.add_node(self.npcs[-1],self.player.container)\n",
        "                        if replay_game_engine:\n",
        "                            replay_game_engine.npcs.append(Character(alias,\"A \"+t))\n",
        "                            replay_game_engine.npcs_ptrs[alias]=replay_game_engine.npcs[-1]\n",
        "                            replay_game_engine.world.add_node(replay_game_engine.npcs[-1],replay_game_engine.world.find_node(replay_game_engine.player.container.name))\n",
        "                    for attr in parametric_fields_attributes[t]:\n",
        "                        # check initial attibutes before the action\n",
        "                        # TODO: this check should be done using the Action class and the Condition class\n",
        "                        if parametric_fields_attributes[t][attr]!='AnyValue' and self.npcs_ptrs[alias]._get_attribute(attr)!='AnyValue' and parametric_fields_attributes[t][attr]!= self.npcs_ptrs[alias]._get_attribute(attr):\n",
        "                            raise Exception(\"Failed in adding a new action which requires a npc with attributes different from its current value\")\n",
        "                        print(\"set attribute:\",alias,t,attr,parametric_fields_attributes[t][attr])\n",
        "                        SetNodeAttributeOperation(self.world,alias,attr,parametric_fields_attributes[t][attr]).apply() # TODO: This either does nothing or erases the attributes and sets them to 'AnyValue'. This doesn't seem to be the intended behavior.\n",
        "                        if replay_game_engine:\n",
        "                            SetNodeAttributeOperation(replay_game_engine.world,alias,attr,parametric_fields_attributes[t][attr]).apply()\n",
        "                    parameter_alias[t] = alias\n",
        "            if 'object' in entity:\n",
        "                for t in parameters[entity]:\n",
        "                    alias = get_alias(self.items_ptrs.keys(), t)\n",
        "                    if edit_distance(alias,get_lemma(t))>0:\n",
        "                        alias = get_lemma(t)\n",
        "                        self.items.append(Item(alias,\"A \"+t))\n",
        "                        self.items_ptrs[alias]=self.items[-1]\n",
        "                        print(\"add node:\",alias)\n",
        "                        self.world.add_node(self.items[-1],self.player.container)\n",
        "                        if replay_game_engine:\n",
        "                            replay_game_engine.items.append(Item(alias,\"A \"+t))\n",
        "                            replay_game_engine.items_ptrs[alias]=replay_game_engine.items[-1]\n",
        "                            replay_game_engine.world.add_node(replay_game_engine.items[-1],replay_game_engine.world.find_node(replay_game_engine.player.container.name))\n",
        "                    for attr in parametric_fields_attributes[t]:\n",
        "                        # initial attibutes before the action\n",
        "                        if parametric_fields_attributes[t][attr]!='AnyValue' and self.items_ptrs[alias]._get_attribute(attr)!='AnyValue' and parametric_fields_attributes[t][attr]!= self.items_ptrs[alias]._get_attribute(attr):\n",
        "                            raise Exception(\"Failed in adding a new action which requires a item with attributes different from its current value\")\n",
        "                        print(\"set attribute:\",alias,t,attr,parametric_fields_attributes[t][attr])\n",
        "                        SetNodeAttributeOperation(self.world,alias,attr,parametric_fields_attributes[t][attr]).apply()\n",
        "                        if replay_game_engine:\n",
        "                            SetNodeAttributeOperation(replay_game_engine.world,alias,attr,parametric_fields_attributes[t][attr]).apply()\n",
        "                    parameter_alias[t] = alias\n",
        "            if 'room' in entity:\n",
        "                for t in parameters[entity]:\n",
        "                    alias = sorted([i for i in self.locations_ptrs.keys()],key = lambda x:edit_distance(get_lemma(t), x))[0]\n",
        "                    if edit_distance(alias,get_lemma(t))>0:\n",
        "                        raise Exception(\"Location not found error: Try to access a location that doesn't exist\")\n",
        "                    for attr in parametric_fields_attributes[t]:\n",
        "                        # initial attibutes before the action\n",
        "                        if parametric_fields_attributes[t][attr]!='AnyValue' and self.locations_ptrs[alias]._get_attribute(attr)!='AnyValue' and parametric_fields_attributes[t][attr]!= self.locations_ptrs[alias]._get_attribute(attr):\n",
        "                            raise Exception(\"Failed in adding a new action which requires a room with attributes different from its current value\")\n",
        "                        print(\"set attribute:\",alias,t,attr,parametric_fields_attributes[t][attr])\n",
        "                        SetNodeAttributeOperation(self.world,alias,attr,parametric_fields_attributes[t][attr]).apply()\n",
        "                        if replay_game_engine:\n",
        "                            SetNodeAttributeOperation(replay_game_engine.world,alias,attr,parametric_fields_attributes[t][attr]).apply()\n",
        "                    parameter_alias[t] = alias\n",
        "        #print(\"alias\",parameter_alias)\n",
        "\n",
        "        '''\n",
        "        The following code is used to apply the action to the game engine.\n",
        "        TODO: Refactor this code to use the Action class.\n",
        "        '''\n",
        "        for effect in self.action_effects[action_template]:      \n",
        "            print(\"Apply:\",effect) \n",
        "            if re.match(MOVE_PATTERN,effect):\n",
        "                param = re.findall(r'\\{[a-z1-9 \\(\\)]+\\}', effect)\n",
        "                assert len(param)==2\n",
        "                print(param)\n",
        "                param_object, param_to = param[0][1:-1],param[1][1:-1] # Example: ('object1', 'room1')\n",
        "                if param_object not in parameters:\n",
        "                    raise Exception(\"%s not defined. Valid parameters: %s\"%(param_object,', '.join([k for k in parameters.keys()])))\n",
        "                if param_to=='inventory':\n",
        "                    param_to = 'Player'\n",
        "                elif param_to== \"environment\":\n",
        "                    param_to = self.player.container.name\n",
        "                elif '.inventory' in param[1]:\n",
        "                    param_to= param_to.replace('.inventory','')\n",
        "                elif param_to in parameters:\n",
        "                    param_to = parameters[param_to]\n",
        "                    if isinstance(param_to, list):\n",
        "                        param_to = param_to[0]\n",
        "                for t in parameters[param_object]:\n",
        "                    print(\"Moving\",parameter_alias[t],param_to)\n",
        "                    can_proceed_flag = False\n",
        "                    temp = self.world.find_node(parameter_alias[t]) # we use this to check the container of the entity\n",
        "                    while temp:\n",
        "                        if temp==self.player.container:\n",
        "                            can_proceed_flag = True\n",
        "                            break\n",
        "                        else:\n",
        "                            temp = temp.container\n",
        "                    if can_proceed_flag==False:\n",
        "                        raise Exception(\"Execution Error: in %s. You are not allowed to move an entity if the entity is in a different room\"%s)\n",
        "                                      \n",
        "                    MoveNodeOperation(self.world, parameter_alias[t], param_to).apply()\n",
        "            elif re.match(ADD_PATTERN,effect):\n",
        "                param = re.findall(r'\\{[a-z1-9 \\(\\)]+\\}', effect)\n",
        "                assert len(param)==1\n",
        "                param_object = param[0][1:-1]\n",
        "                if param_object not in parameters:\n",
        "                    raise Exception(\"%s not defined. Valid parameters: %s\"%(param_object,', '.join([k for k in parameters.keys()])))\n",
        "                for t in parameters[param_object]:\n",
        "                    print(\"Added\",parameter_alias[t])\n",
        "                    AddNodeOperation(self.world, parameter_alias[t], Item, \"A \"+t, self.player.container.name).apply()\n",
        "            elif re.match(DELETE_PATTERN,effect):\n",
        "                param = re.findall(r'\\{[a-z1-9 \\(\\)]+\\}', effect)\n",
        "                assert len(param)==1\n",
        "                param_object = param[0][1:-1]\n",
        "                if param_object not in parameters:\n",
        "                    raise Exception(\"%s not defined. Valid parameters: %s\"%(param_object,', '.join([k for k in parameters.keys()])))\n",
        "                for t in parameters[param_object]:\n",
        "                    print(\"Deleted\",parameter_alias[t])\n",
        "                    DeleteNodeOperation(self.world, parameter_alias[t]).apply()\n",
        "            elif re.match(SET_ATTRIBUTES_PATTERN ,effect):\n",
        "                param = re.findall(r'\\{[a-zA-Z1-9._ \\(\\)]+\\}', effect)\n",
        "                assert len(param)==2\n",
        "                attribute, value = param[0][1:-1], param[1][1:-1]\n",
        "                assert '.' in attribute\n",
        "                assert value in ['True','False','AnyValue']\n",
        "                param_object = attribute.split('.')[0]\n",
        "                attribute_name = attribute.split('.')[1]\n",
        "                if param_object not in parameters:\n",
        "                    raise Exception(\"%s not defined. Valid parameters: %s\"%(param_object,', '.join([k for k in parameters.keys()])))\n",
        "                for t in parameters[param_object]:\n",
        "                    print(\"Set Attribute\",parameter_alias[t],attribute_name, value)\n",
        "                    SetNodeAttributeOperation(self.world, parameter_alias[t], attribute_name, value).apply()\n",
        "            elif re.match(DISPLAY_PATTERN ,effect):\n",
        "                param = re.findall(r'\\{[a-zA-Z1-9._ \\(\\)]+\\}', effect)\n",
        "                assert len(param)==1\n",
        "                attribute = param[0][1:-1]\n",
        "                param_object = attribute.split('.')[0]\n",
        "                if param_object not in parameters and param_object not in ['inventory','environment']:\n",
        "                    raise Exception(\"%s not defined. Valid parameters: %s\"%(param_object,', '.join([k for k in parameters.keys()]+['inventory','environment'])))\n",
        "                print(\"Displaying Message--- Detial:\",effect)\n",
        "                #TODO implement DisplayMessageOperation and fill this\n",
        "            else:\n",
        "                if \"Display \" in effect:\n",
        "                    raise Exception(\"Unexpected effect format for Display: \\\"%s\\\". Expect one of %s\"%(effect,', '.join(['Display {'+k+'.message}' for k in parameters.keys()]+['Display {inventory}','Display {environment}'])))\n",
        "                elif \"Add \" in effect:\n",
        "                    raise Exception(\"Unexpected effect format for Add: \\\"%s\\\". Expected format is Add {XXX}\"%(effect))\n",
        "                elif \"Delete \" in effect:\n",
        "                    raise Exception(\"Unexpected effect format for Delete: \\\"%s\\\". Expected format is Delete {XXX}\"%(effect))\n",
        "                elif \"Move \" in effect:\n",
        "                    raise Exception(\"Unexpected effect format for Move: \\\"%s\\\". Expected format is Move {XXX} to {XXX}\")\n",
        "                elif \"Set \" in effect:\n",
        "                    raise Exception(\"Unexpected effect format for Set: \\\"%s\\\". Expected format is Set {XXX.some_attribute} to {True/False}\")\n",
        "                else:\n",
        "                    raise Exception(\"%s is not an allowed action\"%(effect))\n",
        "\n",
        "    # TODO: This function may not be needed. Refactor using the Condition class\n",
        "    # TODO: Preconditions are checked in two places. location, item needed, and attribute needed are checked here. field attribute values are checked in apply_action. Should be unified.\n",
        "    def check_if_precondtions_have_been_met(self,action):\n",
        "        '''\n",
        "        check if certain preconditions has been met here before apply the action\n",
        "        refers to game_logics\n",
        "        e.g. get a sword at armory requires at armory\n",
        "        assert self.player.container == self.world.find_node(\"armory\")\n",
        "        # TODO: return false if not met. Do not raise exception\n",
        "        '''\n",
        "        if self.world.find_node(self.game_logics[action]['location'][0][3:]) != self.world.player.container:\n",
        "            raise Exception(\"You must be at %s to perform the action\"%self.game_logics[action]['location'][0][3:])\n",
        "\n",
        "        for item in self.game_logics[action]['item needed']:\n",
        "            if self.world.find_node(get_lemma(item[4:])).container != self.world.player:\n",
        "                raise Exception(\"You must obtain %s before perform the action\"%item[4:])\n",
        "\n",
        "        for event in self.game_logics[action]['preceeding_events']:\n",
        "            if self.action_state[event]==False:\n",
        "                raise Exception(\"You must finish [Quest]:%s before accepting this quest\"%event)\n",
        "\n",
        "        return True\n",
        "\n",
        "    def check_if_disired_effects_were_applied(self,action):\n",
        "        # TODO: return false if not met. Do not raise exception\n",
        "        for disired_effect in self.game_logics[action]['results']:\n",
        "            if disired_effect[:4]=='has ':\n",
        "                if self.world.find_node(get_lemma(disired_effect[4:])).container != self.player:\n",
        "                    raise Exception(\"Wrong effect error: %s should move object %s to inventory\"%(action,disired_effect[4:]))\n",
        "            else:\n",
        "                # TODO: check if other effects are applied\n",
        "                pass\n",
        "        return True\n"
      ]
    },
    {
      "cell_type": "code",
      "execution_count": 4,
      "metadata": {
        "id": "1KOeyKSpQESG"
      },
      "outputs": [],
      "source": [
        "\n",
        "from os import initgroups\n",
        "import re\n",
        "import copy\n",
        "import random\n",
        "from string import Formatter\n",
        "import time\n",
        "from typing import Match\n",
        "\n",
        "\n",
        "# TODO: instruct GPT to only output attributes check and effect\n",
        "action_generation_prompt = '''generate continuation of the following text.\n",
        "\n",
        "Using the template provided define admissible action of a game engine. You are allowed to use only the following 5 action templates for action effects in exact format:\n",
        "1. Move {entity} to {entity}  //Move an item \n",
        "2. Set {entity.some_attribute} to {True/False}  //set some_attributes of an entity\n",
        "3. Delete {entity}  //remove material consumed by the player\n",
        "4. Add {entity}  //Create items through crafting or alchemy. Item being created must not have existed before\n",
        "5. Display {entity.message}  //entity is either an npc, location or item\n",
        "\n",
        "Determine what attributes about the object should hold, and the effect of the action.\n",
        "\n",
        "Here are some examples.\n",
        "\n",
        "//action template for \"get\"\n",
        "get {object1}:\n",
        "attributes check: //pass\n",
        "effect: Move {object1} to {inventory}\n",
        "\n",
        "//action template for \"eat\"\n",
        "eat {enum(object)}:\n",
        "attributes check: {enum(object).is_edible==True}\n",
        "effect: Delete {enum(object)}\n",
        "\n",
        "//action template for \"buy with\"\n",
        "buy {object1} with {object2}:\n",
        "attributes check: {object1.is_for_sale==True}; {object2.is_currency==True};\n",
        "effect: Move {object1} to {inventory}; Move {object2} to {environment}\n",
        "\n",
        "//action template for \"open\"\n",
        "open {object1}:\n",
        "attributes check: {object1.is_open==False}; {object1.is_container==True}; {object1.is_locked==False}\n",
        "effect: Set {object1.is_open} to {True}; Set {object1.is_locked} to {False}\n",
        "\n",
        "//action template for \"search\"\n",
        "search {location1}:\n",
        "attributes check: //pass\n",
        "effect: Display {location1.message}\n",
        "\n",
        "//action template for \"craft with\"\n",
        "craft {object1} with {enum(object)}:\n",
        "attributes check: {enum(object).is_material==True};\n",
        "npcs involved: //pass\n",
        "effect: Add {object1}; Delete {enum(object)}\n",
        "\n",
        "//action template for \"hit with\"\n",
        "hit {npc1} with {object1}:\n",
        "attributes check: {object1.is_weapon==True}; {npc1.is_alive==True};\n",
        "effect: Set {npc1.is_alive} to {False}\n",
        "\n",
        "//action template for \"find\"\n",
        "find {object1}:\n",
        "attributes check: //pass\n",
        "effect: Move {object1} to {inventory}; Display {object1.message}\n",
        "\n",
        "//action template for \"listen\"\n",
        "listen to {npc1}:\n",
        "attributes check: {npc1.is_alive==True}\n",
        "effect: Display {npc1.message}\n",
        "\n",
        "END of examples\n",
        "\n",
        "Now, generate your response for the following action \"{$text1$}\".{$text4$}\n",
        "\n",
        "//action template for \"{$text1$}\"{$text3$}\n",
        "{$text2$}:\n",
        "'''\n",
        "\n",
        "find_enum_npc_prompt = '''\n",
        "generate continuation of the following text.\n",
        "\n",
        "find all npc/npcs appeared in the given sentence fragment.\n",
        "\n",
        "Example 1:\n",
        "Sentence fragment: farmers\n",
        "npc/npcs: farmers\n",
        "\n",
        "Example 2:\n",
        "Sentence fragment: princess and wolf.\n",
        "npc/npcs: princess, wolf\n",
        "\n",
        "Example 3:\n",
        "Sentence fragment: donkey.\n",
        "npc/npcs: donkey\n",
        "\n",
        "Example 4:\n",
        "Sentence fragment: {$text1$}\n",
        "npc/npcs:'''\n",
        "\n",
        "find_enum_object_prompt = '''\n",
        "generate continuation of the following text.\n",
        "\n",
        "find all object/objects appeared in the given sentence fragment.\n",
        "\n",
        "Example 1:\n",
        "Sentence fragment: stones\n",
        "object/objects: stones\n",
        "\n",
        "Example 2:\n",
        "Sentence fragment: wood, nail and steel.\n",
        "object/objects: wood, nail, steel\n",
        "\n",
        "Example 3:\n",
        "Sentence fragment: pan and stove.\n",
        "object/objects: pan, stove\n",
        "\n",
        "Example 4:\n",
        "Sentence fragment: {$text1$}\n",
        "object/objects:'''\n",
        "\n",
        "# TODO: what if no more npc can be found? what if no more object can be found? same for items\n",
        "get_npc_that_fits_the_profile_prompt = '''generate continuation of the following text.\n",
        "\n",
        "Given the sentence, infer the name of the npc involved in the action according to the given constraints\n",
        "\n",
        "Example 1:\n",
        "Sentence: adventurer drink holy water at church.\n",
        "constraints: is_npc=True, is_alive==True\n",
        "npc: priest\n",
        "\n",
        "Example 2:\n",
        "Sentence: adventurer buy armor at market place.\n",
        "constraints: is_npc=True, is_vendor==True, is_alive==True\n",
        "npc: armor vendor\n",
        "\n",
        "Example 3:\n",
        "Sentence: adventurer steal salt at kitchen.\n",
        "constraints: is_npc=True, is_alive==True\n",
        "npc: cook\n",
        "\n",
        "Example 4:\n",
        "Sentence: {$text1$}.\n",
        "constraints: {$text2$}\n",
        "npc:'''\n",
        "\n",
        "action_template_extraction_prompt = '''generate continuation of the following text.\n",
        "\n",
        "Identify action template for action in the sentences. Use {object1}, {object2} to replace objects in the action. Use {enum(object)} to represent a list of objects. Use {npc1}, {npc2} to replace npcs in the action. Use {enum(npc)} to represent a list of objects. Use {room1} to represent the location.\n",
        "\n",
        "Example 1:\n",
        "Sentence: climbed [object: wall] with [object: ladder].\n",
        "Action template: climbed {object1} with {object2}\n",
        "\n",
        "Example 2:\n",
        "Sentence: stole [object: bow] from [room: blacksmith's workshop].\n",
        "Action template: stole {object1} from {room1}\n",
        "\n",
        "Example 3:\n",
        "Sentence: crafted [object: shield] with [object: iron], [object: nail] and [object: wood].\n",
        "Action template: crafted {object1} with {enum(object)}\n",
        "\n",
        "Example 4:\n",
        "Sentence: go to [room: farm].\n",
        "Action template: go to {room1}\n",
        "\n",
        "Example 5:\n",
        "Sentence: purchase [object: gem] with [money].\n",
        "Action template: purchase {object1} with {object2}\n",
        "\n",
        "Example 6:\n",
        "Sentence: {$text2$}\n",
        "Action template:'''\n",
        "\n",
        "expand_sentence_with_with_prompt = '''Generate continuation of the following text.\n",
        "\n",
        "Determine if the preposition \"with\" can connect object with the sentence stem, if it is possible, connect the sentence stem with potential objects using \"with\". Otherwise answer \"No\". Here are some examples. Return the simplest form of the sentence.\n",
        "\n",
        "sentence stem: adventurer craft sword.\n",
        "potential object in the sentence: iron, wood, anvil\n",
        "Answer: adventurer craft sword with iron, wood.\n",
        "\n",
        "sentence stem: adventurer acquires a book \n",
        "potential object in the sentence: broom\n",
        "Answer: No\n",
        "\n",
        "sentence stem: {$text1$}\n",
        "potential object in the sentence: {$text2$}\n",
        "Answer:'''\n",
        "\n",
        "fix_grammar_prompt = '''Generate continuation of the following text.\n",
        "\n",
        "Fix all grammar mistakes in the following sentence.\n",
        "\n",
        "Setence: adventurer kill a dragon at dragon's canyon.\n",
        "Output: adventurer killed a dragon at dragon's canyon.\n",
        "\n",
        "Setence: {$text1$}\n",
        "Output:'''\n",
        "\n",
        "extract_entities_prompt = '''Generate continuation of the following text.\n",
        "\n",
        "Extract entities (object, creature, person, and locations) in the following sentence. Encapsulate entities with \"[]\".\n",
        "\n",
        "Setence: The adventurer kill a dragon at dragon's canyon.\n",
        "Output: [The adventurer] kill [a dragon] at [dragon's canyon].\n",
        "\n",
        "Setence: {$text1$}\n",
        "Output:'''\n",
        "\n",
        "def fix_grammar(sentence) -> str:\n",
        "    return chatgpt_call(fix_grammar_prompt.replace('{$text1$}',sentence)).split('\\n')[0].split('.')[0].split('(')[0]\n",
        "\n",
        "def extract_entities(sentence) -> str:\n",
        "    '''\n",
        "    Input: The adventurer kill a dragon at dragon's canyon.\n",
        "    Output: [The adventurer] kill [a dragon] at [dragon's canyon]\n",
        "    '''\n",
        "    return chatgpt_call(extract_entities_prompt.replace('{$text1$}',sentence)).split('\\n')[0].split('.')[0].split('(')[0]\n",
        "\n",
        "def get_alias(candidates, word_to_alias) -> str:\n",
        "    '''\n",
        "    Get a candidate that is closest to word_to_alias\n",
        "    '''\n",
        "    return sorted(candidates,key = lambda x:edit_distance(get_lemma(word_to_alias), x))[0]\n",
        "\n",
        "def fix_grammar_and_annotate_entities(sentence, all_objects, all_rooms, all_npcs) -> Tuple[str, str]:\n",
        "    '''\n",
        "    Input: adventurer kill a dragon at dragon's canyon.\n",
        "    Output: [npc: the adventurer] killed [npc: a dragon] at [room: dragon's canyon]\n",
        "    TODO: Concatenating characters not efficient.\n",
        "    '''\n",
        "    sentence_fixed_grammar = fix_grammar(sentence)\n",
        "    annotated_sentence = extract_entities(sentence_fixed_grammar) # example: [The adventurer] killed [a dragon] at [dragon's canyon].\n",
        "\n",
        "    start_of_entity = -1\n",
        "    annotated_sentence_enhanced = \"\"\n",
        "    for i in range(len(annotated_sentence)):\n",
        "        if annotated_sentence[i]=='[':\n",
        "            start_of_entity=i+1\n",
        "        elif annotated_sentence[i]==']':\n",
        "            prefix = \"\"\n",
        "            entity = annotated_sentence[start_of_entity:i].strip().lower() # example: the adventurer\n",
        "\n",
        "            # remove a, the, A, The\n",
        "            for to_replace  in ['a ','the ','A ','The ']:\n",
        "                if entity[:len(to_replace)]==to_replace:\n",
        "                    entity = entity[len(to_replace):]\n",
        "            if entity in all_objects:\n",
        "                prefix = 'object: '\n",
        "            elif entity in all_rooms:\n",
        "                prefix = 'room: '\n",
        "            elif entity in all_npcs:\n",
        "                prefix = 'npc: '\n",
        "            annotated_sentence_enhanced = annotated_sentence_enhanced+'['+prefix+entity+']'\n",
        "            start_of_entity = -1\n",
        "        elif start_of_entity==-1:\n",
        "            annotated_sentence_enhanced = annotated_sentence_enhanced+annotated_sentence[i]\n",
        "\n",
        "\n",
        "    print(\"original sentence:\",sentence)\n",
        "    print(\"fixed grammar:\",sentence_fixed_grammar)\n",
        "    print(\"annotate_sentence:\",annotated_sentence_enhanced)\n",
        "    return sentence_fixed_grammar, annotated_sentence_enhanced\n",
        "\n",
        "def expand_sentence_with_with(sentence, objects) -> str:\n",
        "    '''\n",
        "    Example\n",
        "    Sentence: adventurer craft sword.\n",
        "    Objects: iron, wood, anvil\n",
        "    Output: adventurer craft sword with iron, wood\n",
        "    '''\n",
        "    if objects==[]:\n",
        "        return sentence\n",
        "    else:\n",
        "        result= chatgpt_call(expand_sentence_with_with_prompt.replace('{$text1$}',sentence).replace('{$text2$}',', '.join(objects))).split('\\n')[0].split('.')[0].split('(')[0].lower()\n",
        "        print(result)\n",
        "        if result.strip() not in [\"no\",\"No\"] and 'adventurer' in result: # TODO: Player may not be adventurer\n",
        "            return result\n",
        "        else:\n",
        "            return sentence\n",
        "        \n",
        "def identify_action_template_given_the_sentence(sentence) -> str:\n",
        "    '''\n",
        "    Input: crafted [object: shield] with [object: iron], [object: nail] and [object: wood].\n",
        "    Output: crafted {object1} with {enum(object)}\n",
        "    '''\n",
        "    prompt = action_template_extraction_prompt.replace(\"{$text2$}\",' '.join(sentence.split(' ')[1:]))\n",
        "    return chatgpt_call(prompt).split('\\n')[0]\n",
        "\n",
        "def get_npc_that_fits_the_profile(sentence,attributes) -> str:\n",
        "    '''\n",
        "    Sentence: adventurer buy armor at market place.\n",
        "    attributes: is_npc=True, is_vendor==True, is_alive==True\n",
        "    Output: armor vendor\n",
        "    '''\n",
        "    prompt = get_npc_that_fits_the_profile_prompt.replace('{$text1$}',sentence).replace('{$text2$}',', '.join([k+'='+attributes[k] for k in attributes]))\n",
        "    infered_npc = chatgpt_call(prompt).split('\\n\\n')[0]\n",
        "    #print(infered_npc)\n",
        "    # TODO: infered_npc may be empty, or there may be multiple NPCs\n",
        "    return infered_npc\n",
        "\n",
        "def parse_enum_objects_npcs(sentence_fragment,type=\"object\") -> List[str]:\n",
        "    '''\n",
        "    Sentence fragment: wood, nail and steel.\n",
        "    Output: ['wood', 'nail', 'steel']\n",
        "    '''\n",
        "    if type==\"object\":\n",
        "        prompt = find_enum_object_prompt.replace('{$text1$}',sentence_fragment)\n",
        "    else:\n",
        "        prompt = find_enum_npc_prompt.replace('{$text1$}',sentence_fragment)\n",
        "    result = chatgpt_call(prompt).split('\\n')[0].split('(')[0].replace(' and ',', ').split(',')\n",
        "    result = [s.strip() for s in result if s.strip()!='']\n",
        "    return result\n",
        "\n",
        "def parsing_parameters(sentence, template) -> Dict[str,str]:\n",
        "    '''\n",
        "    Find parameter of action.\n",
        "    sentence = adventurer craft sword with iron, wood and anvil.\n",
        "    template = adventurer craft {object1} with {enum(object)}.\n",
        "    Output: {'object1':'sword', 'enum(object)':'iron;wood;anvil'}\n",
        "    '''\n",
        "    fieldnames_in_template = [name for _, name, _, _ in Formatter().parse(template) if name]\n",
        "    print(fieldnames_in_template)\n",
        "    p = str(template)\n",
        "    for fieldname in fieldnames_in_template:\n",
        "        p = p.replace('{'+fieldname+'}','(.*)')\n",
        "    print(\"matching pattern:\",sentence,p)\n",
        "    p = re.compile(p)\n",
        "    result = p.search(sentence)\n",
        "    # The following result type check should be implemented for good code style. However, since the null pointer exception in result.group is checked when adding action, having this code would break the game. \n",
        "    # if result is None:\n",
        "    #     raise ValueError(f\"Cannot parse \\\"{sentence}\\\" with \\\"{template}\\\"\")\n",
        "    parameters = {}\n",
        "    for i,fieldname in enumerate(fieldnames_in_template):\n",
        "        if fieldname=='enum(npc)':\n",
        "            parameters[fieldname] = ';'.join(parse_enum_objects_npcs(result.group(i+1),type='npc'))\n",
        "        elif fieldname=='enum(object)':\n",
        "            parameters[fieldname] = ';'.join(parse_enum_objects_npcs(result.group(i+1),type='object'))\n",
        "        elif fieldname[:5]=='enum(':\n",
        "            raise ValueError('enum object can only be enum(object) or enum(npc).')\n",
        "        else:\n",
        "            parameters[fieldname] = result.group(i+1).replace('.','')\n",
        "    print(\"parameters\",parameters)\n",
        "    return parameters\n",
        "\n",
        "def get_action_template_and_rules(sentence,previous_attept_info = \"\") -> Tuple[str,str,str]:\n",
        "    '''\n",
        "    TODO: Check doc\n",
        "    Input: adventure drink [object: the magic water] with [object: a bottle]\n",
        "    Output: action_template, action_rule, attempt_info\n",
        "    action_template = 'drink {object1} with {object2}'\n",
        "    action_rule = 'attributes check: {object1.is_drinkable==True}; {object2.is_container==True} effect: Delete {object1}; Display {object1.message}'\n",
        "    attempt_info = \n",
        "    '//action template for \"drink with\"\n",
        "    drink {object1} with {object2}:\n",
        "    attributes check: {object1.is_drinkable==True}; {object2.is_container==True}\n",
        "    effect: Delete {object1}; Display {object1.message}'\n",
        "    '''\n",
        "    # TODO: Player may not be adventurer. Also, this is too hacky.\n",
        "    for keyword in ['The adventurer','the adventurer','A adventurer', 'a adventurer', 'Adventurer', 'An adventurer', 'an adventurer']:\n",
        "        if keyword in sentence:\n",
        "            sentence = sentence.replace(keyword,'adventurer')\n",
        "    sucess = False\n",
        "    template = identify_action_template_given_the_sentence(sentence) # Example: crafted {object1} with {enum(object)}\n",
        "    print(template)\n",
        "    state = 0\n",
        "    preprocessed = \"\"\n",
        "    for i in range(len(template)):\n",
        "        if template[i]=='{':\n",
        "            state = 1\n",
        "        elif template[i]=='}':\n",
        "            state = 0\n",
        "        else:\n",
        "            if state==0:\n",
        "                preprocessed = preprocessed+template[i]\n",
        "    preprocessed = ' '.join([i for i in preprocessed.split(' ') if i!='']) # Example: crafted with\n",
        "    prompt = action_generation_prompt.replace(\"{$text1$}\",preprocessed).replace(\"{$text2$}\",template).replace(\"{$text3$}\",'\\n//'+sentence).replace(\"{$text4$}\",previous_attept_info)\n",
        "    if previous_attept_info!=\"\":\n",
        "        print(prompt)\n",
        "    action_rule = chatgpt_call(prompt).split('\\n\\n')[0]\n",
        "    print(action_rule)\n",
        "    return template,action_rule,prompt.split('\\n\\n')[-1]+action_rule\n",
        "\n",
        "def try_adding_action(game_engine:GameEngine, original_sentence, sentence,sentence_expanded,room,template,rule,replay_game_engine=None) -> GameEngine:\n",
        "    '''\n",
        "    Try applying the action to the game engine.\n",
        "    Return the new game engine if the action is successful, otherwise an exception is raised. \n",
        "    The original game engine is not modified.\n",
        "    replay_game_engine should not to be modified, but when there are nodes in game_logic that are not added, they will be added to replay_game_engine.\n",
        "    TODO: If check_if_disired_effects_were_applied is refactored, this function must be refactored as well.\n",
        "    TODO: remove dependency on replay_game_engine. Modifications on replay_game_engine should be completely done at (Reference 1) (search comment \"Reference 1\").\n",
        "    '''\n",
        "    parameters = parsing_parameters(sentence, template) #find all parameters in the sentence  # Example: {'object1':'sword', 'enum(object)':'iron;wood;anvil'}\n",
        "    # for each parameter in action, find their attributes\n",
        "    parametric_fields_attributes = {} # The requirements for an action. Example: {'object1':{'is_object':'True','is_weapon':'True'}}\n",
        "    for key in parameters:\n",
        "        p = re.compile(\"\\{%s\\.([a-z,A-Z,_]+)\"%key.replace('(','\\(').replace(')','\\)'))\n",
        "        result = p.findall(rule)\n",
        "        parametric_fields_attributes[key] = {}\n",
        "        if key[:6]=='object':\n",
        "            parametric_fields_attributes[key]['is_object']='True'\n",
        "        elif key[:3]=='npc':\n",
        "            parametric_fields_attributes[key]['is_npc']='True'\n",
        "        elif key[:4]=='room':\n",
        "            parametric_fields_attributes[key]['is_room']='True'\n",
        "        elif key=='enum(npc)':\n",
        "            parametric_fields_attributes[key]['is_enum_npc']='True'\n",
        "        elif key=='enum(object)':\n",
        "            parametric_fields_attributes[key]['is_enum_object']='True'\n",
        "        for attr in result:\n",
        "            p = re.compile(\"\\{%s\\.%s==[a-z,A-Z]+\"%(key,attr))\n",
        "            initial_state_of_attributes = list(set(p.findall(rule.split('\\n')[0])))\n",
        "            if len(initial_state_of_attributes)==0:\n",
        "                parametric_fields_attributes[key][attr]='AnyValue'\n",
        "            elif len(initial_state_of_attributes)==1:\n",
        "                parametric_fields_attributes[key][attr]=initial_state_of_attributes[0].split('=')[-1]\n",
        "            else:\n",
        "                raise ValueError('parametric_fields_attributes cannot be True and False at the same time.')\n",
        "    print(\"parametric_fields_attributes\",parametric_fields_attributes)\n",
        "\n",
        "    # non parametric fields. Some objects/npcs may be hidden/implicitly defined, \n",
        "    # this makes generation too slow, so removed from the this version\n",
        "    '''\n",
        "    non_parametric_fields = list(set([name for _, name, _, _ in Formatter().parse(rule) if name and '.' not in name and name not in fieldnames_in_template]))\n",
        "    print(non_parametric_fields)\n",
        "    non_parametric_fields_attributes = {}\n",
        "    for field in non_parametric_fields:\n",
        "        p = re.compile(\"\\{%s\\.([a-z,A-Z,_]+)\"%field)\n",
        "        result = p.findall(rule)\n",
        "        non_parametric_fields_attributes[field] = {}\n",
        "        if field[:6]=='object':\n",
        "            non_parametric_fields_attributes[field]['is_object']='True'\n",
        "        elif field[:3]=='npc':\n",
        "            non_parametric_fields_attributes[field]['is_npc']='True'\n",
        "        elif field[:4]=='room':\n",
        "            non_parametric_fields_attributes[field]['is_room']='True'\n",
        "        for attr in result:\n",
        "            p = re.compile(\"\\{%s\\.%s==[a-z,A-Z]+\"%(field,attr))\n",
        "            initial_state_of_attributes = list(set(p.findall(rule.split('\\n')[0])))\n",
        "            if len(initial_state_of_attributes)==0:\n",
        "                non_parametric_fields_attributes[field][attr]='AnyValue'\n",
        "            elif len(initial_state_of_attributes)==1:\n",
        "                non_parametric_fields_attributes[field][attr]=initial_state_of_attributes[0].split('=')[-1]\n",
        "            else:\n",
        "                raise ValueError('non_parametric_fields_attributes cannot be True and False at the same time.')\n",
        "        if 'is_npc' in non_parametric_fields_attributes[field] and non_parametric_fields_attributes[field]['is_npc']=='True':\n",
        "            non_parametric_fields_attributes[get_npc_that_fits_the_profile(sentence_expanded,non_parametric_fields_attributes[field])]=copy.deepcopy(non_parametric_fields_attributes[field])\n",
        "            del non_parametric_fields_attributes[field]\n",
        "\n",
        "\n",
        "    print(\"non_parametric_fields_attributes\",non_parametric_fields_attributes)\n",
        "    '''\n",
        "    \n",
        "    # parse the effects\n",
        "    effects = [effect.strip() for effect in rule.split('\\n')[-1][len('effect: '):].split(';')]\n",
        "    print(\"effects:\",effects)\n",
        "\n",
        "    #input example for game_engine\n",
        "    #template = 'gathered {enum(object)} for {object1} with {object2}'\n",
        "    #parameters = {'enum(object)': 'ingredients', 'object1': 'a cure', 'object2': 'a basket'}\n",
        "    #parametric_fields_attributes = {'enum(object)': {'is_enum_object': 'True'}, 'object1': {'is_object': 'True', 'is_cure': 'True', 'is_complete': 'AnyValue'}, 'object2': {'is_object': 'True', 'is_container': 'True'}}\n",
        "    #effects = ['Move {enum(object)} to {object2}', 'Set {object1.is_complete} to {True}']\n",
        "\n",
        "    game_engine_copy = copy.deepcopy(game_engine)     \n",
        "    assert game_engine_copy.world.player is not None\n",
        "    #since we omit the walk to action in the walk through\n",
        "    # omit location requirement\n",
        "    # TODO: SHOULD BE REMOVED IN THE FUTURE\n",
        "    if game_engine_copy.world.find_node(game_engine_copy.game_logics[original_sentence]['location'][0][3:]) != game_engine_copy.world.player.container: \n",
        "        MoveNodeOperation(game_engine_copy.world, 'Player', game_engine_copy.game_logics[original_sentence]['location'][0][3:]).apply() # TODO: player may not be called player\n",
        "    \n",
        "    game_engine_copy.check_if_precondtions_have_been_met(original_sentence)\n",
        "    if game_engine_copy.register_action(template)==True:\n",
        "        print(\"register new action\")\n",
        "        for effect in effects:\n",
        "            game_engine_copy.add_action_effect(template,effect)\n",
        "    else:\n",
        "        print(\"use existing action\")\n",
        "    game_engine_copy.apply_action(template, parameters, parametric_fields_attributes,replay_game_engine)\n",
        "    game_engine_copy.check_if_disired_effects_were_applied(original_sentence)\n",
        "    return game_engine_copy\n",
        "    "
      ]
    },
    {
      "cell_type": "code",
      "execution_count": null,
      "metadata": {
        "colab": {
          "base_uri": "https://localhost:8080/"
        },
        "id": "fy_VdmWrsATU",
        "outputId": "af3c12da-972e-48cc-ddec-4d97e50b9163"
      },
      "outputs": [
        {
          "name": "stdout",
          "output_type": "stream",
          "text": [
            "no\n",
            "no\n",
            "adventurer find the werewolf den with maps, torch\n",
            "adventurer gather ingredients for a cure with a basket\n",
            "no\n",
            "no\n",
            "no\n",
            "no\n",
            "no\n",
            "adventure confront the werewolf pack leader with sword\n",
            "no\n",
            "no\n"
          ]
        }
      ],
      "source": [
        "\n",
        "game =  {'game_logics': {'adventurer speak with the village elders.': {'item needed': [], 'location': ['at village hall'], 'preceeding_events': [], 'description': [], 'results': []}, 'adventurer read books.': {'item needed': [], 'location': ['at library'], 'preceeding_events': [], 'description': ['There is a book at the library.'], 'results': ['has book']}, 'adventurer find maps.': {'item needed': ['has books'], 'location': ['at library'], 'preceeding_events': [], 'description': ['There is a map at the library.'], 'results': ['has map']}, 'adventurer take torch.': {'item needed': ['has money'], 'location': ['at general store'], 'preceeding_events': [], 'description': ['There is a torch for sale at the general'], 'results': ['has torch']}, 'adventurer find the werewolf den.': {'item needed': ['has maps', 'has torch'], 'location': ['at forest'], 'preceeding_events': ['adventurer speak with the village elders.'], 'description': [], 'results': []}, 'adventurer take basket.': {'item needed': [], 'location': ['at forest'], 'preceeding_events': [], 'description': ['There is a basket in the forest.'], 'results': ['has basket']}, 'adventurer gather ingredients for a cure.': {'item needed': ['has basket'], 'location': ['at forest'], 'preceeding_events': ['adventurer find the werewolf den.'], 'description': [], 'results': []}, 'adventure meet with a wise woman in the forest': {'item needed': [], 'location': ['at forest'], 'preceeding_events': ['adventurer gather ingredients for a cure.'], 'description': [], 'results': []}, 'adventurer purchase flashlight.': {'item needed': ['has money'], 'location': ['at store'], 'preceeding_events': [], 'description': ['There is a flashlight for sale at the store'], 'results': ['has flashlight']}, 'adventurer investigate the abandoned mansion': {'item needed': ['has flashlight'], 'location': ['at abandoned mansion'], 'preceeding_events': ['adventure meet with a wise woman in the forest'], 'description': [], 'results': []}, 'adventurer purchase lockpicking tool.': {'item needed': ['has money'], 'location': ['at general store'], 'preceeding_events': [], 'description': ['There is a lockpicking tool for sale at'], 'results': ['has lockpicking tool']}, 'adventurer steal key.': {'item needed': ['has lockpicking tool'], 'location': ['at thieves den'], 'preceeding_events': [], 'description': ['There is a key at thieves den.'], 'results': ['has key']}, 'adventurer take sword.': {'item needed': ['has key'], 'location': ['at weapon depot'], 'preceeding_events': [], 'description': ['There is a sword at a weapon depot.'], 'results': ['has sword']}, 'adventure confront the werewolf pack leader': {'item needed': ['has sword'], 'location': ['at werewolf den'], 'preceeding_events': ['adventurer investigate the abandoned mansion'], 'description': [], 'results': []}, 'adventurer loot weapons.': {'item needed': [], 'location': ['at dungeon'], 'preceeding_events': [], 'description': ['There is a loot of weapons at the d'], 'results': ['has weapons']}, 'adventurer find armor.': {'item needed': ['has money'], 'location': ['at armor shop'], 'preceeding_events': [], 'description': ['There is armor for sale at an armor'], 'results': ['has armor']}, 'adventure escort villagers to safety': {'item needed': ['has weapons', 'has armor'], 'location': ['at village'], 'preceeding_events': ['adventure confront the werewolf pack leader'], 'description': [], 'results': []}, 'adventure destroy the cursed artifact': {'item needed': [], 'location': ['at abandoned mansion'], 'preceeding_events': ['adventure escort villagers to safety'], 'description': [], 'results': []}, 'adventurer stop the curse from spreading to other villages': {'item needed': [], 'location': ['at forest'], 'preceeding_events': ['adventure destroy the cursed artifact'], 'description': [], 'results': []}}, 'map': {'at village hall': [{'type': 'npc', 'content': 'has village elders'}], 'at forest': [{'type': 'npc', 'content': 'has werewolf'}, {'type': 'npc', 'content': 'has farmers'}, {'type': 'npc', 'content': 'has herbalist'}, {'type': 'npc', 'content': 'has witch'}, {'type': 'item', 'content': 'has basket'}, {'type': 'npc', 'content': 'has wise woman'}], 'at general store': [{'type': 'item', 'content': 'has torch'}, {'type': 'item', 'content': 'has lockpicking tool'}, {'type': 'npc', 'content': 'has merchant'}], 'at library': [{'type': 'item', 'content': 'has maps'}, {'type': 'item', 'content': 'has books'}], 'at abandoned mansion': [], 'at store': [{'type': 'item', 'content': 'has flashlight'}, {'type': 'npc', 'content': 'has merchant'}], 'at werewolf den': [{'type': 'npc', 'content': 'has werewolf pack leader'}], 'at weapon depot': [{'type': 'item', 'content': 'has sword'}], 'at thieves den': [{'type': 'item', 'content': 'has key'}], 'at village': [{'type': 'npc', 'content': 'has villagers'}], 'at armor shop': [{'type': 'item', 'content': 'has armor'}], 'at dungeon': [{'type': 'item', 'content': 'has weapons'}]}}\n",
        "\n",
        "action_mapping = {key:expand_sentence_with_with(key,game['game_logics'][key]['item needed']) for key in game['game_logics']}\n",
        "\n",
        "   "
      ]
    },
    {
      "cell_type": "code",
      "execution_count": null,
      "metadata": {
        "colab": {
          "base_uri": "https://localhost:8080/"
        },
        "id": "msq7Vi_uovsi",
        "outputId": "45b7b981-0b02-4321-d273-c1365251be50"
      },
      "outputs": [
        {
          "name": "stdout",
          "output_type": "stream",
          "text": [
            "{'adventurer speak with the village elders.': {'item needed': [], 'location': ['at village hall'], 'preceeding_events': [], 'description': [], 'results': []}, 'adventurer read books.': {'item needed': [], 'location': ['at library'], 'preceeding_events': [], 'description': ['There is a book at the library.'], 'results': ['has book']}, 'adventurer find maps.': {'item needed': ['has books'], 'location': ['at library'], 'preceeding_events': [], 'description': ['There is a map at the library.'], 'results': ['has map']}, 'adventurer take torch.': {'item needed': ['has money'], 'location': ['at general store'], 'preceeding_events': [], 'description': ['There is a torch for sale at the general'], 'results': ['has torch']}, 'adventurer find the werewolf den with maps, torch': {'item needed': ['has maps', 'has torch'], 'location': ['at forest'], 'preceeding_events': ['adventurer speak with the village elders.'], 'description': [], 'results': []}, 'adventurer take basket.': {'item needed': [], 'location': ['at forest'], 'preceeding_events': [], 'description': ['There is a basket in the forest.'], 'results': ['has basket']}, 'adventurer gather ingredients for a cure with a basket': {'item needed': ['has basket'], 'location': ['at forest'], 'preceeding_events': ['adventurer find the werewolf den with maps, torch'], 'description': [], 'results': []}, 'adventure meet with a wise woman in the forest': {'item needed': [], 'location': ['at forest'], 'preceeding_events': ['adventurer gather ingredients for a cure with a basket'], 'description': [], 'results': []}, 'adventurer purchase flashlight.': {'item needed': ['has money'], 'location': ['at store'], 'preceeding_events': [], 'description': ['There is a flashlight for sale at the store'], 'results': ['has flashlight']}, 'adventurer investigate the abandoned mansion': {'item needed': ['has flashlight'], 'location': ['at abandoned mansion'], 'preceeding_events': ['adventure meet with a wise woman in the forest'], 'description': [], 'results': []}, 'adventurer purchase lockpicking tool.': {'item needed': ['has money'], 'location': ['at general store'], 'preceeding_events': [], 'description': ['There is a lockpicking tool for sale at'], 'results': ['has lockpicking tool']}, 'adventurer steal key.': {'item needed': ['has lockpicking tool'], 'location': ['at thieves den'], 'preceeding_events': [], 'description': ['There is a key at thieves den.'], 'results': ['has key']}, 'adventurer take sword.': {'item needed': ['has key'], 'location': ['at weapon depot'], 'preceeding_events': [], 'description': ['There is a sword at a weapon depot.'], 'results': ['has sword']}, 'adventure confront the werewolf pack leader': {'item needed': ['has sword'], 'location': ['at werewolf den'], 'preceeding_events': ['adventurer investigate the abandoned mansion'], 'description': [], 'results': []}, 'adventurer loot weapons.': {'item needed': [], 'location': ['at dungeon'], 'preceeding_events': [], 'description': ['There is a loot of weapons at the d'], 'results': ['has weapons']}, 'adventurer find armor.': {'item needed': ['has money'], 'location': ['at armor shop'], 'preceeding_events': [], 'description': ['There is armor for sale at an armor'], 'results': ['has armor']}, 'adventure escort villagers to safety': {'item needed': ['has weapons', 'has armor'], 'location': ['at village'], 'preceeding_events': ['adventure confront the werewolf pack leader'], 'description': [], 'results': []}, 'adventure destroy the cursed artifact': {'item needed': [], 'location': ['at abandoned mansion'], 'preceeding_events': ['adventure escort villagers to safety'], 'description': [], 'results': []}, 'adventurer stop the curse from spreading to other villages': {'item needed': [], 'location': ['at forest'], 'preceeding_events': ['adventure destroy the cursed artifact'], 'description': [], 'results': []}}\n",
            "['general store', 'forest', 'abandoned mansion', 'weapon depot', 'dungeon', 'store', 'thieves den', 'werewolf den', 'village hall', 'library', 'armor shop', 'village']\n",
            "['key', 'flashlight', 'weapons', 'armor', 'torch', 'lockpicking tool', 'basket', 'books', 'maps', 'sword']\n",
            "['villagers', 'farmers', 'werewolf', 'merchant', 'herbalist', 'wise woman', 'werewolf pack leader', 'witch', 'village elders']\n"
          ]
        }
      ],
      "source": [
        "'''\n",
        "The following code reads game logics, map, and generates the story. It also looks for all objects and rooms in the game.\n",
        "'''\n",
        "game_logics = game['game_logics']\n",
        "# the following code changes the actions game_logics to the expanded version. \n",
        "# e.g. adventure confront the werewolf pack leader is changed to adventure confront the werewolf pack leader with sword\n",
        "# game['game_logics']['preceeding_events'] is also updated to reflect the changes.\n",
        "# Other fields in game['game_logics'] are not changed in this process. Maybe the code should be refactored to make it clearer?\n",
        "game_logics = {action_mapping[key]:{k:[t if t not in action_mapping else action_mapping[t] for t in game_logics[key][k]] for k in game_logics[key]} for key in game['game_logics']}\n",
        "map = game['map']\n",
        "print(game_logics)\n",
        "\n",
        "story  = [key for key in game_logics] # every key is an action, which reflects the progress of the story. TODO: Are we sure the story is ordered?\n",
        "story_expanded = [key.replace('.','')+' '+game_logics[key]['location'][0]+'.' for key in story] # Add location info. Example: ['adventure confront the werewolf pack leader with sword at werewolf den.']\n",
        "rooms = ['at '+s.split(' at ')[-1].replace('.','') for s in story_expanded] # Extract room info. Example: ['werewolf den']\n",
        "all_objects = []\n",
        "all_rooms = [] # all rooms can come from two sources: the room info in the story, and the room info in the map\n",
        "all_npcs = []\n",
        "for key in map:\n",
        "    all_rooms.append(key[3:]) # after removing the 'at ' prefix, the key is the room name\n",
        "    for item in map[key]:\n",
        "        if item['type']=='npc':\n",
        "            all_npcs.append(item['content'][4:])\n",
        "        elif item['type']=='item':\n",
        "            all_objects.append(item['content'][4:])\n",
        "all_rooms = list(set(all_rooms))\n",
        "all_objects = list(set(all_objects))\n",
        "all_npcs = list(set(all_npcs))\n",
        "print(all_rooms)\n",
        "print(all_objects)\n",
        "print(all_npcs)\n"
      ]
    },
    {
      "cell_type": "code",
      "execution_count": null,
      "metadata": {
        "colab": {
          "base_uri": "https://localhost:8080/"
        },
        "id": "izNTBvxni81O",
        "outputId": "1431c92a-1070-4846-9a1d-d7ab2daa11a2"
      },
      "outputs": [
        {
          "name": "stdout",
          "output_type": "stream",
          "text": [
            "add node: village hall\n",
            "add node: village elders\n",
            "laction on map (0, 0)\n",
            "add node: forest\n",
            "add node: werewolf\n",
            "add node: farmer\n",
            "add node: herbalist\n",
            "add node: witch\n",
            "add node: basket\n",
            "add node: wise woman\n",
            "laction on map (0, 1)\n",
            "add node: general store\n",
            "add node: torch\n",
            "add node: lockpicking tool\n",
            "add node: merchant\n",
            "laction on map (0, 2)\n",
            "add node: library\n",
            "add node: map\n",
            "add node: book\n",
            "laction on map (0, 3)\n",
            "add node: abandoned mansion\n",
            "laction on map (0, 4)\n",
            "add node: store\n",
            "add node: flashlight\n",
            "add node: merchant\n",
            "laction on map (0, 5)\n",
            "add node: werewolf den\n",
            "add node: werewolf pack leader\n",
            "laction on map (0, 6)\n",
            "add node: weapon depot\n",
            "add node: sword\n",
            "laction on map (0, 7)\n",
            "add node: thieves den\n",
            "add node: key\n",
            "laction on map (0, 8)\n",
            "add node: village\n",
            "add node: villager\n",
            "laction on map (0, 9)\n",
            "add node: armor shop\n",
            "add node: armor\n",
            "laction on map (0, 10)\n",
            "add node: dungeon\n",
            "add node: weapon\n",
            "laction on map (0, 11)\n",
            "{'basket': [Item]@(basket-d16fc0bb-f107-48a2-82a4-8a3a9cec1bfb), 'torch': [Item]@(torch-987f7618-e6c5-4ee1-b76d-f59a419a270e), 'lockpicking tool': [Item]@(lockpicking-tool-115b2d76-c176-438a-83b7-4dfd341ffce9), 'map': [Item]@(map-30fcbc04-977d-4ce7-8399-e931d1f3ae3a), 'book': [Item]@(book-45c2a0eb-f6e7-4c52-9f04-e98bda121df8), 'flashlight': [Item]@(flashlight-c6da9506-ab07-4689-8fb1-415d166fc729), 'sword': [Item]@(sword-82178865-4ac0-4419-a414-28dfabde378c), 'key': [Item]@(key-79ce2774-d006-444d-b007-c7e9ba51ecae), 'armor': [Item]@(armor-bda82c4f-79af-4a3e-8216-21c05d0451a6), 'weapon': [Item]@(weapon-57e2b587-c8dd-4c86-8a24-0f22f98a2fa1), 'money': [Item]@(money-2afbd86f-9406-44a3-bd08-99dea3649640)}\n",
            "{'village elders': [Character]@(village-elders-f653bb83-adf5-4190-a224-0e33620057d1), 'werewolf': [Character]@(werewolf-5671d0a7-29ad-4bd6-ad5b-57a352f4318e), 'farmer': [Character]@(farmer-c8e56f99-a738-4c53-8ed4-f8503a9fac80), 'herbalist': [Character]@(herbalist-e3f11ebb-1819-4b19-8b94-1689cc3cfdac), 'witch': [Character]@(witch-249efee0-5b8f-4706-bf41-b9bfb18a3d88), 'wise woman': [Character]@(wise-woman-27d323e5-8045-43f4-8a5d-2302334658c1), 'merchant': [Character]@(merchant-fce1c8df-35cc-4dc2-a8be-e994f4d8801b), 'werewolf pack leader': [Character]@(werewolf-pack-leader-f53b470c-49cd-4f29-bfe2-1573a3cc1380), 'villager': [Character]@(villager-94f770c3-af69-4c95-ba03-b7bf023de5d6)}\n",
            "{'village hall': [Room]@(village-hall-b8ca16fc-78a6-45d9-9042-d78c01d65553), 'forest': [Room]@(forest-87d73fe5-4728-45d8-9f30-c39c14bdf0b5), 'general store': [Room]@(general-store-f79f901d-d538-4b3f-8dbd-11d91c17554b), 'library': [Room]@(library-25a0a616-321e-46ec-beff-1e674effa55b), 'abandoned mansion': [Room]@(abandoned-mansion-bc40b0d7-7d6c-48e9-847d-5dcf51deb8d0), 'store': [Room]@(store-08cfc298-5ad3-4b21-b321-764818c8ed28), 'werewolf den': [Room]@(werewolf-den-04c45a15-f891-4cbe-87bd-d7b546578172), 'weapon depot': [Room]@(weapon-depot-62e16c6a-1333-449c-b559-1c029111dcab), 'thieves den': [Room]@(thieves-den-e72b2687-d8f9-4fec-92b6-ef6af3b58191), 'village': [Room]@(village-4bf804fc-b20f-41e4-a5f0-c08c18152740), 'armor shop': [Room]@(armor-shop-4d07f362-46f6-4838-a101-49cb4fdcc96a), 'dungeon': [Room]@(dungeon-41f2cca1-5839-4cc2-8688-f878c440b7a3)}\n",
            "add node: village hall\n",
            "add node: village elders\n",
            "laction on map (0, 0)\n",
            "add node: forest\n",
            "add node: werewolf\n",
            "add node: farmer\n",
            "add node: herbalist\n",
            "add node: witch\n",
            "add node: basket\n",
            "add node: wise woman\n",
            "laction on map (0, 1)\n",
            "add node: general store\n",
            "add node: torch\n",
            "add node: lockpicking tool\n",
            "add node: merchant\n",
            "laction on map (0, 2)\n",
            "add node: library\n",
            "add node: map\n",
            "add node: book\n",
            "laction on map (0, 3)\n",
            "add node: abandoned mansion\n",
            "laction on map (0, 4)\n",
            "add node: store\n",
            "add node: flashlight\n",
            "add node: merchant\n",
            "laction on map (0, 5)\n",
            "add node: werewolf den\n",
            "add node: werewolf pack leader\n",
            "laction on map (0, 6)\n",
            "add node: weapon depot\n",
            "add node: sword\n",
            "laction on map (0, 7)\n",
            "add node: thieves den\n",
            "add node: key\n",
            "laction on map (0, 8)\n",
            "add node: village\n",
            "add node: villager\n",
            "laction on map (0, 9)\n",
            "add node: armor shop\n",
            "add node: armor\n",
            "laction on map (0, 10)\n",
            "add node: dungeon\n",
            "add node: weapon\n",
            "laction on map (0, 11)\n",
            "{'basket': [Item]@(basket-f58e006a-71a1-4c3c-8be3-ff3a591f5e08), 'torch': [Item]@(torch-d25bfe81-9683-430b-98e8-43b1ccfc2e02), 'lockpicking tool': [Item]@(lockpicking-tool-de29d9f8-837e-41e3-a8ad-8c6a13b7119c), 'map': [Item]@(map-5e984eb9-6aa5-420f-a6bf-3a6d499cfae7), 'book': [Item]@(book-86f30c19-6ec5-40ae-a612-ee826894a900), 'flashlight': [Item]@(flashlight-2f186957-3c9d-4521-9cfd-036f9702a33a), 'sword': [Item]@(sword-1752f595-63d4-4eb5-a622-b96a58ffdedc), 'key': [Item]@(key-3d5024d2-ae4a-4f75-a34a-648fa431b4d6), 'armor': [Item]@(armor-2d84f896-60d6-4629-9e70-529e30f7bd56), 'weapon': [Item]@(weapon-a40bf130-805f-44e7-a134-fa394054750a), 'money': [Item]@(money-d4c459e5-1a19-4642-9ef7-773c91adb236)}\n",
            "{'village elders': [Character]@(village-elders-2b9cbb40-dfaa-4e98-9769-c244c2e43a32), 'werewolf': [Character]@(werewolf-f66e34d9-3788-4bc9-8918-37f7b838db44), 'farmer': [Character]@(farmer-f86fe3fa-ee29-49f9-840d-b81f13cdda84), 'herbalist': [Character]@(herbalist-5c7c0db5-cf29-49aa-aa67-94ac9c7a43eb), 'witch': [Character]@(witch-a7f5937e-f5a6-4f80-b8fc-9ee04e3c7488), 'wise woman': [Character]@(wise-woman-daf6ff4b-d201-4371-b596-5b7dda40ecec), 'merchant': [Character]@(merchant-5031c453-651f-4dce-823b-656bc495a149), 'werewolf pack leader': [Character]@(werewolf-pack-leader-d96fec09-e3a9-483e-bc00-357284970f81), 'villager': [Character]@(villager-32a09ea9-fea1-4fb7-8181-667daa739d3c)}\n",
            "{'village hall': [Room]@(village-hall-7c4b5ec1-79ef-4aa1-9c69-1ebef1b28162), 'forest': [Room]@(forest-36b3ca5a-04b0-4ddd-80d8-ca79d230699f), 'general store': [Room]@(general-store-d73fe7c9-3d77-4e76-ae6a-babc1b36c83c), 'library': [Room]@(library-9697a694-d0af-4f83-8743-4a805d92a014), 'abandoned mansion': [Room]@(abandoned-mansion-281bb587-15ba-4855-8edf-09c0e939afff), 'store': [Room]@(store-ec642dc6-1c4b-4e87-a54c-f3f1d3f31c3a), 'werewolf den': [Room]@(werewolf-den-716ed90f-e9f9-4c35-a406-d9575d93563b), 'weapon depot': [Room]@(weapon-depot-3f90b5f4-4e12-4225-ab87-014e70a5ea82), 'thieves den': [Room]@(thieves-den-9c644ff0-50fb-4c5a-9eae-ffe4612ac60d), 'village': [Room]@(village-d99e4f68-2bf5-409a-96c1-f53a238da3c0), 'armor shop': [Room]@(armor-shop-d8c7d517-0547-442c-b892-a7e531183b3c), 'dungeon': [Room]@(dungeon-0e7029a9-056c-4240-ae90-374459a65bc3)}\n",
            "################## 0 of 19 action in the story ####################\n",
            "\n",
            "sentence: adventurer speak with the village elders.\n",
            "sentence_expanded: adventurer speak with the village elders at village hall.\n",
            "room: at village hall\n",
            "attempt 0 adventurer speak with the village elders at village hall.\n",
            "original sentence: adventurer speak with the village elders.\n",
            "fixed grammar: The adventurer speaks with the village elders\n",
            "annotate_sentence: [adventurer] speaks with [npc: village elders]\n",
            "speaks with {enum(npc)}\n",
            "//action template for \"speaks with\"\n",
            "//[adventurer] speaks with [npc: village elders]\n",
            "debug #############\n",
            " //action template for \"speaks with\"\n",
            "//[adventurer] speaks with [npc: village elders]\n",
            "speaks with {enum(npc)}:\n",
            "//action template for \"speaks with\"\n",
            "//[adventurer] speaks with [npc: village elders] #################\n",
            "['enum(npc)']\n",
            "matching pattern: The adventurer speaks with the village elders speaks with (.*)\n",
            "parameters {'enum(npc)': 'the village elders'}\n",
            "parametric_fields_attributes {'enum(npc)': {'is_enum_npc': 'True'}}\n",
            "effects: ['turer] speaks with [npc: village elders]']\n",
            "register new action\n",
            "set attribute: village elders the village elders is_enum_npc True\n",
            "True\n",
            "['enum(npc)']\n",
            "matching pattern: The adventurer speaks with the village elders speaks with (.*)\n",
            "parameters {'enum(npc)': 'the village elders'}\n",
            "{'sentence_fixed_grammar': 'The adventurer speaks with the village elders', 'primary_parameter': ['village elders'], 'template': 'speaks with {enum(npc)}', 'keywords': ['village elders'], 'target_action_in_game_logic': 'adventurer speak with the village elders.'}\n",
            "################## 1 of 19 action in the story ####################\n",
            "\n",
            "sentence: adventurer read books.\n",
            "sentence_expanded: adventurer read books at library.\n",
            "room: at library\n",
            "attempt 0 adventurer read books at library.\n",
            "original sentence: adventurer read books.\n",
            "fixed grammar: The adventurer reads books\n",
            "annotate_sentence: [adventurer] reads [object: books]\n",
            "reads {enum(object)}\n",
            "attributes check: {enum(object).is_readable==True}\n",
            "effect: Display {enum(object).message}\n",
            "debug #############\n",
            " //action template for \"reads\"\n",
            "//[adventurer] reads [object: books]\n",
            "reads {enum(object)}:\n",
            "attributes check: {enum(object).is_readable==True}\n",
            "effect: Display {enum(object).message} #################\n",
            "['enum(object)']\n",
            "matching pattern: The adventurer reads books reads (.*)\n",
            "parameters {'enum(object)': 'books'}\n",
            "parametric_fields_attributes {'enum(object)': {'is_enum_object': 'True', 'is_readable': 'AnyValue', 'message': 'AnyValue'}}\n",
            "effects: ['Display {enum(object).message}']\n",
            "register new action\n",
            "set attribute: book books is_enum_object True\n",
            "set attribute: book books is_readable AnyValue\n",
            "set attribute: book books message AnyValue\n",
            "Apply: Display {enum(object).message}\n",
            "Displaying Message--- Detial: Display {enum(object).message}\n",
            "Wrong effect error: adventurer read books. should move object book to inventory Traceback (most recent call last):\n",
            "  File \"<ipython-input-144-c0ec54fd89f8>\", line 43, in <cell line: 15>\n",
            "    game_engine = try_adding_action(game_engine, sentence, sentence_fixed_grammar,sentence_expanded,room,template,action_rule,replay_game_engine_copy)\n",
            "  File \"<ipython-input-131-a1ab3ba78305>\", line 411, in try_adding_action\n",
            "    game_engine_copy.check_if_disired_effects_were_applied(original_sentence)\n",
            "  File \"<ipython-input-94-d55dd32b04df>\", line 367, in check_if_disired_effects_were_applied\n",
            "    raise Exception(\"Wrong effect error: %s should move object %s to inventory\"%(action,disired_effect[4:]))\n",
            "Exception: Wrong effect error: adventurer read books. should move object book to inventory\n",
            "\n",
            "False\n",
            "###############\n",
            "attemp 0 failed, try adding action again!\n",
            "attempt 1 adventurer read books at library.\n",
            "original sentence: adventurer read books.\n",
            "fixed grammar: The adventurer reads books\n",
            "annotate_sentence: [adventurer] reads [object: books]\n",
            "reads {enum(object)}\n",
            "generate continuation of the following text.\n",
            "\n",
            "Using the template provided define admissible action of a game engine. You are allowed to use only the following 5 action templates for action effects in exact format:\n",
            "1. Move {entity} to {entity}  //Move an item \n",
            "2. Set {entity.some_attribute} to {True/False}  //set some_attributes of an entity\n",
            "3. Delete {entity}  //remove material consumed by the player\n",
            "4. Add {entity}  //Create items through crafting or alchemy. Item being created must not have existed before\n",
            "5. Display {entity.message}  //entity is either an npc, location or item\n",
            "\n",
            "Determine what attributes about the object should hold, and the effect of the action.\n",
            "\n",
            "Here are some examples.\n",
            "\n",
            "//action template for \"get\"\n",
            "get {object1}:\n",
            "attributes check: //pass\n",
            "effect: Move {object1} to {inventory}\n",
            "\n",
            "//action template for \"eat\"\n",
            "eat {enum(object)}:\n",
            "attributes check: {enum(object).is_edible==True}\n",
            "effect: Delete {enum(object)}\n",
            "\n",
            "//action template for \"buy with\"\n",
            "buy {object1} with {object2}:\n",
            "attributes check: {object1.is_for_sale==True}; {object2.is_currency==True};\n",
            "effect: Move {object1} to {inventory}; Move {object2} to {environment}\n",
            "\n",
            "//action template for \"open\"\n",
            "open {object1}:\n",
            "attributes check: {object1.is_open==False}; {object1.is_container==True}; {object1.is_locked==False}\n",
            "effect: Set {object1.is_open} to {True}; Set {object1.is_locked} to {False}\n",
            "\n",
            "//action template for \"search\"\n",
            "search {location1}:\n",
            "attributes check: //pass\n",
            "effect: Display {location1.message}\n",
            "\n",
            "//action template for \"craft with\"\n",
            "craft {object1} with {enum(object)}:\n",
            "attributes check: {enum(object).is_material==True};\n",
            "npcs involved: //pass\n",
            "effect: Add {object1}; Delete {enum(object)}\n",
            "\n",
            "//action template for \"hit with\"\n",
            "hit {npc1} with {object1}:\n",
            "attributes check: {object1.is_weapon==True}; {npc1.is_alive==True};\n",
            "effect: Set {npc1.is_alive} to {False}\n",
            "\n",
            "//action template for \"find\"\n",
            "find {object1}:\n",
            "attributes check: //pass\n",
            "effect: Move {object1} to {inventory}; Display {object1.message}\n",
            "\n",
            "//action template for \"listen\"\n",
            "listen to {npc1}:\n",
            "attributes check: {npc1.is_alive==True}\n",
            "effect: Display {npc1.message}\n",
            "\n",
            "END of examples\n",
            "\n",
            "Now, generate your response for the following action \"reads\".\n",
            "\n",
            "//The following is a wrong example that fail to execute. You should avoid generating the same content in your next trial. Refers to the error message below for more detail\n",
            "//action template for \"reads\"\n",
            "//[adventurer] reads [object: books]\n",
            "reads {enum(object)}:\n",
            "attributes check: {enum(object).is_readable==True}\n",
            "effect: Display {enum(object).message}\n",
            "\n",
            "Error: Wrong effect error: adventurer read books. should move object book to inventory\n",
            "\n",
            "Your last attempt failed to execute. Revise it based on the error message....\n",
            "\n",
            "//action template for \"reads\"\n",
            "//[adventurer] reads [object: books]\n",
            "reads {enum(object)}:\n",
            "\n",
            "attributes check: {enum(object).is_readable==True}\n",
            "effect: Move {enum(object)} to {inventory}; Display {enum(object).message}\n",
            "debug #############\n",
            " //action template for \"reads\"\n",
            "//[adventurer] reads [object: books]\n",
            "reads {enum(object)}:\n",
            "attributes check: {enum(object).is_readable==True}\n",
            "effect: Move {enum(object)} to {inventory}; Display {enum(object).message} #################\n",
            "['enum(object)']\n",
            "matching pattern: The adventurer reads books reads (.*)\n",
            "parameters {'enum(object)': 'books'}\n",
            "parametric_fields_attributes {'enum(object)': {'is_enum_object': 'True', 'is_readable': 'AnyValue', 'message': 'AnyValue'}}\n",
            "effects: ['Move {enum(object)} to {inventory}', 'Display {enum(object).message}']\n",
            "register new action\n",
            "set attribute: book books is_enum_object True\n",
            "set attribute: book books is_readable AnyValue\n",
            "set attribute: book books message AnyValue\n",
            "Apply: Move {enum(object)} to {inventory}\n",
            "['{enum(object)}', '{inventory}']\n",
            "Moved book Player\n",
            "Apply: Display {enum(object).message}\n",
            "Displaying Message--- Detial: Display {enum(object).message}\n",
            "['enum(object)']\n",
            "matching pattern: The adventurer reads books reads (.*)\n",
            "parameters {'enum(object)': 'books'}\n",
            "{'sentence_fixed_grammar': 'The adventurer reads books', 'primary_parameter': ['book'], 'template': 'reads {enum(object)}', 'keywords': ['book'], 'target_action_in_game_logic': 'adventurer read books.'}\n",
            "################## 2 of 19 action in the story ####################\n",
            "\n",
            "sentence: adventurer find maps.\n",
            "sentence_expanded: adventurer find maps at library.\n",
            "room: at library\n",
            "attempt 0 adventurer find maps at library.\n",
            "original sentence: adventurer find maps.\n",
            "fixed grammar: The adventurer finds maps\n",
            "annotate_sentence: [adventurer] finds [object: maps]\n",
            "finds {object1}\n",
            "attributes check: //pass\n",
            "effect: Move {object1} to {inventory}; Display {object1.message}\n",
            "debug #############\n",
            " //action template for \"finds\"\n",
            "//[adventurer] finds [object: maps]\n",
            "finds {object1}:\n",
            "attributes check: //pass\n",
            "effect: Move {object1} to {inventory}; Display {object1.message} #################\n",
            "['object1']\n",
            "matching pattern: The adventurer finds maps finds (.*)\n",
            "parameters {'object1': 'maps'}\n",
            "parametric_fields_attributes {'object1': {'is_object': 'True', 'message': 'AnyValue'}}\n",
            "effects: ['Move {object1} to {inventory}', 'Display {object1.message}']\n",
            "register new action\n",
            "set attribute: map maps is_object True\n",
            "set attribute: map maps message AnyValue\n",
            "Apply: Move {object1} to {inventory}\n",
            "['{object1}', '{inventory}']\n",
            "Moved map Player\n",
            "Apply: Display {object1.message}\n",
            "Displaying Message--- Detial: Display {object1.message}\n",
            "True\n",
            "['object1']\n",
            "matching pattern: The adventurer finds maps finds (.*)\n",
            "parameters {'object1': 'maps'}\n",
            "{'sentence_fixed_grammar': 'The adventurer finds maps', 'primary_parameter': ['map'], 'template': 'finds {object1}', 'keywords': ['map'], 'target_action_in_game_logic': 'adventurer find maps.'}\n"
          ]
        }
      ],
      "source": [
        "import traceback\n",
        "#initialize game engine\n",
        "#action_template = 'gathered {enum(object)} for {object1} with {object2}'\n",
        "#parameters = {'enum(object)': 'ingredients', 'object1': 'a cure', 'object2': 'a basket'}\n",
        "#parametric_fields_attributes = {'enum(object)': {'is_enum_object': 'True'}, 'object1': {'is_object': 'True', 'is_cure': 'True', 'is_complete': 'AnyValue'}, 'object2': {'is_object': 'True', 'is_container': 'True'}}\n",
        "#effects = ['Move {enum(object)} to {object2}', 'Set {object1.is_complete} to {True}']\n",
        "game['game_logics']=game_logics\n",
        "#initialize game environment \n",
        "#\n",
        "game_engine = GameEngine(map, game_logics) # The game engine the computer will interact with and evaluate on during game generation. The actions are executed, so we can know is the game is actually playable or not.\n",
        "replay_game_engine = GameEngine(map, game_logics) # The game engine that the player will interact with. It is a copy of game_engine, and has all the information about the admissible actions. but the actions are not executed.\n",
        "#\n",
        "###################################################################################################################################\n",
        "\n",
        "# for index in range(3):\n",
        "for index in range(len(story)):\n",
        "    print(\"################## %i of %i action in the story ####################\\n\"%(index,len(story)))\n",
        "    # sentence already has the \"with\" clause. sentence_expanded also has the location info.\n",
        "    # Example: sentence: adventure confront the werewolf pack leader with sword.\n",
        "    # Example: sentence_expanded: adventure confront the werewolf pack leader with sword at werewolf den.\n",
        "    sentence,sentence_expanded,room = story[index], story_expanded[index], rooms[index]\n",
        "    print(\"sentence:\",sentence)\n",
        "    print(\"sentence_expanded:\",sentence_expanded)\n",
        "    print(\"room:\",room)\n",
        "    sucess = False\n",
        "    cnt = 0\n",
        "\n",
        "    #move money to adventurer's inventory since planner assumes several precondition to be true to end the recursion\n",
        "    # TODO: We may remove this in the future.\n",
        "    #try:\n",
        "    #    game_engine.world.find_node(\"money\")\n",
        "    #except Exception:\n",
        "    #    game_engine.items.append(Item(\"money\",\"A \"+\"money\"))\n",
        "    #    game_engine.items_ptrs[\"money\"]=game_engine.items[-1]\n",
        "    #    game_engine.world.add_node(game_engine.items[-1],game_engine.player)\n",
        "    #if game_engine.world.find_node(\"money\").container!=game_engine.player:\n",
        "    #    raise Exception(\"money is not in player's inventory\")\n",
        "        # MoveNodeOperation(game_engine.world, 'money', 'Player').apply()\n",
        "\n",
        "\n",
        "    # add the action to the game, and check if the action is actually runnable\n",
        "    previous_attempt_info = \"\"\n",
        "    try:\n",
        "        print(\"attempt %i\"%cnt,sentence_expanded)\n",
        "        sentence_fixed_grammar, annotated_sentence = fix_grammar_and_annotate_entities(sentence if sentence[-1]=='.' else sentence+'.', all_objects=all_objects, all_rooms = all_rooms, all_npcs=all_npcs)\n",
        "        template,action_rule,attempt_info = get_action_template_and_rules(annotated_sentence,previous_attempt_info)\n",
        "        previous_attempt_info = previous_attempt_info+'\\n\\n//The following is a wrong example that fail to execute. You should avoid generating the same content in your next trial. Refers to the error message below for more detail\\n'+attempt_info\n",
        "        print(\"debug #############\\n\",attempt_info,'#################')\n",
        "        # interact with game engine and check if the action is actually runnable\n",
        "        replay_game_engine_copy = copy.deepcopy(replay_game_engine)\n",
        "        game_engine = try_adding_action(game_engine, sentence, sentence_fixed_grammar,sentence_expanded,room,template,action_rule,replay_game_engine_copy)\n",
        "        sucess = True   \n",
        "    except Exception as e:\n",
        "        sucess = False\n",
        "        if \"'NoneType' object has no attribute 'group'\" in str(e): # TODO: Handle exceptions locally.\n",
        "            previous_attempt_info = '\\n\\n'.join(previous_attempt_info.split('\\n\\n')[:-1]) #  TODO: Just remove the last attempt info? Is it a good idea.\n",
        "        else:\n",
        "            previous_attempt_info = previous_attempt_info+'\\n\\nError: '+str(e) \n",
        "        print(e,traceback.format_exc())\n",
        "    print(sucess)\n",
        "    while not sucess:\n",
        "        if cnt>7:\n",
        "            raise ValueError('Adding action: max number of attempt exeeded.')\n",
        "        if cnt%2==0 and cnt!=0:\n",
        "            previous_attempt_info = \"\"\n",
        "        print(\"###############\\nattemp %i failed, try adding action again!\"%cnt)\n",
        "\n",
        "        # TODO: The following code is the same as above, should be refactored.\n",
        "        try:\n",
        "            cnt+=1\n",
        "            print(\"attempt %i\"%cnt,sentence_expanded)\n",
        "            sentence_fixed_grammar, annotated_sentence = fix_grammar_and_annotate_entities(sentence if sentence[-1]=='.' else sentence+'.', all_objects=all_objects, all_rooms = all_rooms, all_npcs=all_npcs)\n",
        "            \n",
        "            template,action_rule,attempt_info = get_action_template_and_rules(annotated_sentence,previous_attempt_info+('\\n\\nYour last attempt failed to execute. Revise it based on the error message....' if previous_attempt_info!=\"\" else \"\"))\n",
        "            print(\"debug #############\\n\",attempt_info,'#################')\n",
        "            previous_attempt_info = previous_attempt_info+'\\n\\n//The following is a wrong example that fail to execute. You should avoid generating the same content in your next trial. Refers to the error message below for more detail\\n'+attempt_info\n",
        "            \n",
        "            # interact with game engine and check if the action is actually runnable\n",
        "            replay_game_engine_copy = copy.deepcopy(replay_game_engine)\n",
        "            game_engine = try_adding_action(game_engine, sentence ,sentence_fixed_grammar,sentence_expanded,room,template,action_rule,replay_game_engine_copy)\n",
        "            sucess = True\n",
        "        except Exception as e:\n",
        "            sucess = False\n",
        "            print(e,'\\n',traceback.format_exc())\n",
        "            if \"'NoneType' object has no attribute 'group'\" in str(e):\n",
        "                previous_attempt_info = '\\n\\n'.join(previous_attempt_info.split('\\n\\n')[:-1])\n",
        "            else:\n",
        "                previous_attempt_info = previous_attempt_info+'\\n\\nError: '+str(e)\n",
        "    \n",
        "    # We have successfully added the action to the game engine. We have also ensured that the desired effect is achieved in try_adding_action.\n",
        "    # replay_game_engine is the game engine that has all the information of the actions, but the actions are not actually executed. \n",
        "    # a real player will play the game with replay_game_engine.\n",
        "    # Now that the system has successfully added the action to the game engine and replay_game_engine_copy, \n",
        "    # we are sure that replay_game_engine_copy is runnable. \n",
        "    # Now Copy the current state of replay_game_engine_copy to replay_game_engine.\n",
        "    replay_game_engine = copy.deepcopy(replay_game_engine_copy) \n",
        "    # succeed mark objective as done.\n",
        "    # This field is used when checking action preconditions.\n",
        "    game_engine.action_state[sentence]=True\n",
        "    # find primary parameter in the sentence. e.g. find a cave with torch and map -- primary parameter is cave template is find {object}\n",
        "    if 'with' not in sentence:\n",
        "        primary_parameter = parsing_parameters(sentence_fixed_grammar.split(' with ')[0].strip(),template.split(' with ')[0].strip()) # TODO: What about phrases like \"play with the dog\"?\n",
        "    else:\n",
        "        primary_parameter = parsing_parameters(sentence_fixed_grammar.strip(),template.strip())\n",
        "    # get parameter alias. Eg: a name in parameter to a name that is actually used in the game. Usually the two are the same.\n",
        "    primary_parameter = [get_alias(list(game_engine.items_ptrs)+list(game_engine.npcs_ptrs)+list(game_engine.locations_ptrs), primary_parameter[k]) for k in primary_parameter]\n",
        "    #print({\"sentence_fixed_grammar\":sentence_fixed_grammar,\"primary_parameter\":primary_parameter,'template':template,'keywords':copy.deepcopy(primary_parameter), \\\n",
        "    #                                                 'target_action_in_game_logic': sentence})\n",
        "    # store keywords, action pairs\n",
        "    game_engine.keywords_to_game_logic_action_map.append({'template':template,'keywords':primary_parameter, \\\n",
        "                                                     'target_action_in_game_logic': sentence})\n",
        "    for disired_effect in game_engine.game_logics[sentence]['results']:\n",
        "        if disired_effect[:4]=='has ':\n",
        "            game_engine.obtainable_item_to_game_logic_action_map[get_alias(game_engine.items_ptrs.keys(),disired_effect[4:])].append(sentence)\n",
        "\n",
        "# finishing construct replay game engine from game engine (Reference 1)\n",
        "game_engine.action_template = sorted(list(game_engine.action_template), key=lambda x: 0 if ' with ' in x else 1)\n",
        "replay_game_engine.action_template = copy.deepcopy(game_engine.action_template)\n",
        "replay_game_engine.action_effects = copy.deepcopy(game_engine.action_effects)\n",
        "replay_game_engine.action_general_constraints = copy.deepcopy(game_engine.action_general_constraints)\n",
        "replay_game_engine.keywords_to_game_logic_action_map = copy.deepcopy(game_engine.keywords_to_game_logic_action_map)\n",
        "replay_game_engine.obtainable_item_to_game_logic_action_map = copy.deepcopy(game_engine.obtainable_item_to_game_logic_action_map)"
      ]
    },
    {
      "cell_type": "code",
      "execution_count": null,
      "metadata": {
        "id": "rEVm8_FDsynX"
      },
      "outputs": [],
      "source": [
        "# run this cell to store replay_game_engine for testing\n",
        "replay_game_engine_copy = copy.deepcopy(replay_game_engine)"
      ]
    },
    {
      "cell_type": "code",
      "execution_count": null,
      "metadata": {
        "id": "QdnM5lTy7YZf"
      },
      "outputs": [],
      "source": [
        "# run this cell to restore replay_game_engine for testing\n",
        "replay_game_engine = copy.deepcopy(replay_game_engine_copy)"
      ]
    },
    {
      "cell_type": "code",
      "execution_count": null,
      "metadata": {
        "id": "s0VM7GlF6-Mg"
      },
      "outputs": [],
      "source": [
        "# save game\n",
        "replay_game_engine.save('replay_game_world_werewolf.json','replay_game_engine_werewolf.json')"
      ]
    },
    {
      "cell_type": "code",
      "execution_count": null,
      "metadata": {
        "id": "FHFCzT567PIx"
      },
      "outputs": [],
      "source": [
        "# load game\n",
        "replay_game_engine.load('replay_game_world_werewolf.json','replay_game_engine_werewolf.json')"
      ]
    },
    {
      "cell_type": "code",
      "execution_count": null,
      "metadata": {
        "colab": {
          "base_uri": "https://localhost:8080/"
        },
        "id": "5apMV5WIWoTp",
        "outputId": "403b1570-3b3c-4876-857c-714735a3ca62"
      },
      "outputs": [
        {
          "data": {
            "text/plain": [
              "[{'template': 'speaks with {enum(npc)}',\n",
              "  'keywords': ['village elders'],\n",
              "  'target_action_in_game_logic': 'adventurer speak with the village elders.'},\n",
              " {'template': 'reads {enum(object)}',\n",
              "  'keywords': ['book'],\n",
              "  'target_action_in_game_logic': 'adventurer read books.'},\n",
              " {'template': 'finds {object1}',\n",
              "  'keywords': ['map'],\n",
              "  'target_action_in_game_logic': 'adventurer find maps.'}]"
            ]
          },
          "execution_count": 149,
          "metadata": {},
          "output_type": "execute_result"
        }
      ],
      "source": [
        "replay_game_engine.keywords_to_game_logic_action_map"
      ]
    },
    {
      "cell_type": "code",
      "execution_count": null,
      "metadata": {
        "id": "AxcJGfRhibeg"
      },
      "outputs": [],
      "source": [
        "def user_friendly_action_interpreter(sentence):\n",
        "    # find the targeting action if the user input can be interpret as a step in game_logic\n",
        "    # Note that users can either enter a sentence in game_logic or a sentence not in game_logic\n",
        "    global replay_game_engine\n",
        "    sentence_in_game_logic = \"\"\n",
        "    for keywords_to_game_logic_action in replay_game_engine.keywords_to_game_logic_action_map:\n",
        "        fieldnames_in_template = [name for _, name, _, _ in Formatter().parse(keywords_to_game_logic_action['template']) if name]\n",
        "        p = str(keywords_to_game_logic_action['template'])\n",
        "        for fieldname in fieldnames_in_template:\n",
        "            p = p.replace('{'+fieldname+'}','(.*)')\n",
        "        result = re.compile(p).search(sentence)\n",
        "        if result:\n",
        "            print(\"test find action in game_logics\",keywords_to_game_logic_action['template'],keywords_to_game_logic_action['keywords'],sentence)\n",
        "            if all([t in sentence for t in keywords_to_game_logic_action['keywords']]):\n",
        "                sentence_in_game_logic = keywords_to_game_logic_action['target_action_in_game_logic']\n",
        "\n",
        "    print(\"chosen sentence in game logic\",sentence,sentence_in_game_logic)\n",
        "    for template in replay_game_engine.action_template:\n",
        "\n",
        "        #TODO: need to make this code block into a function\n",
        "        #parse parameters\n",
        "        print(\"template\",template)\n",
        "        fieldnames_in_template = [name for _, name, _, _ in Formatter().parse(template) if name]\n",
        "        print(fieldnames_in_template)\n",
        "        p = str(template)\n",
        "        for fieldname in fieldnames_in_template:\n",
        "            p = p.replace('{'+fieldname+'}','(.*)')\n",
        "        print(\"matching pattern:\",sentence,p)\n",
        "        print(p)\n",
        "        p = re.compile(p)\n",
        "        result = p.search(sentence)\n",
        "        if result:\n",
        "            parameters = {}\n",
        "            for i,fieldname in enumerate(fieldnames_in_template):\n",
        "                if fieldname=='enum(npc)' or fieldname=='enum(object)':\n",
        "                    parameters[fieldname] = [s.strip() for s in result.group(i+1).split(',') if s.strip()!='']\n",
        "                else:\n",
        "                    parameters[fieldname] = [result.group(i+1).replace('.','')]\n",
        "            print(\"parameters\",parameters)\n",
        "            \n",
        "            #TODO may add some fuzzy matching here\n",
        "\n",
        "            #check preconditions\n",
        "            if sentence_in_game_logic in replay_game_engine.game_logics:\n",
        "                replay_game_engine.check_if_precondtions_have_been_met(sentence_in_game_logic)\n",
        "                for entity in replay_game_engine.action_general_constraints[template]:\n",
        "                    for attribute in replay_game_engine.action_general_constraints[template][entity]:\n",
        "                        #print(entity,attribute, \"should be equal to\", replay_game_engine.action_general_constraints[template][entity][attribute])\n",
        "                        for t in parameters[entity]:\n",
        "                            if replay_game_engine.world.find_node(t)._get_attribute(attribute)!='AnyValue' and \\\n",
        "                                replay_game_engine.action_general_constraints[template][entity][attribute]!='AnyValue' and \\\n",
        "                                replay_game_engine.action_general_constraints[template][entity][attribute]!=replay_game_engine.world.find_node(t)._get_attribute(attribute):\n",
        "                                    print(\"require\", attribute, \"to be\",replay_game_engine.action_general_constraints[template][entity][attribute], \\\n",
        "                                          'got object',t, 'with attribute value',replay_game_engine.world.find_node(t)._get_attribute(attribute))\n",
        "                                    return False\n",
        "            \n",
        "            # check if game_logic has sefecify ways to obtain an item. If yes, you can only obtain certain items with the methods defined in game_logics\n",
        "            for effect in replay_game_engine.action_effects[template]:\n",
        "                if 'Move ' in effect:\n",
        "                    param = re.findall(r'\\{[a-z1-9 \\(\\)]+\\}', effect)\n",
        "                    assert len(param)==2\n",
        "                    param_object, param_to = param[0][1:-1],param[1][1:-1]\n",
        "                    if param_object in parameters and param_to=='inventory' and \\\n",
        "                                    all([t in replay_game_engine.obtainable_item_to_game_logic_action_map for t in parameters[param_object]]):\n",
        "                        replay_game_engine.obtainable_item_to_game_logic_action_map_ = copy.deepcopy(replay_game_engine.obtainable_item_to_game_logic_action_map)\n",
        "                        for item in parameters[param_object]:\n",
        "                            if sentence_in_game_logic in replay_game_engine.obtainable_item_to_game_logic_action_map[item]:\n",
        "                                print(\"Congratulation: you hit the correct action to obtain\",item)\n",
        "                                replay_game_engine.obtainable_item_to_game_logic_action_map[item].\\\n",
        "                                    pop(replay_game_engine.obtainable_item_to_game_logic_action_map[item].index(sentence_in_game_logic))\n",
        "                            else:\n",
        "                                print(\"It doesn't work.\")\n",
        "                                replay_game_engine.obtainable_item_to_game_logic_action_map = copy.deepcopy(replay_game_engine.obtainable_item_to_game_logic_action_map_)\n",
        "                                return False\n",
        "                    \n",
        "\n",
        "            # apply effects\n",
        "            for effect in replay_game_engine.action_effects[template]:\n",
        "                print(effect)\n",
        "                if 'Move ' in effect:\n",
        "                    param = re.findall(r'\\{[a-z1-9 \\(\\)]+\\}', effect)\n",
        "                    assert len(param)==2\n",
        "                    print(param)\n",
        "                    param_object, param_to = param[0][1:-1],param[1][1:-1]\n",
        "                    if param_object not in parameters:\n",
        "                        raise Exception(\"%s not defined. Valid parameters: %s\"%(param_object,', '.join([k for k in parameters.keys()])))\n",
        "                    if param_to=='inventory':\n",
        "                        param_to = 'Player'\n",
        "                    elif param_to== \"environment\":\n",
        "                        param_to = replay_game_engine.world.player.container.name\n",
        "                    elif '.inventory' in param[1]:\n",
        "                        param_to= param_to.replace('.inventory','')\n",
        "                    elif param_to in parameters:\n",
        "                        param_to = parameters[param_to]\n",
        "                        if isinstance(param_to, list):\n",
        "                            param_to = param_to[0]\n",
        "                    for t in parameters[param_object]:\n",
        "                        print(\"Moved\",t,param_to)\n",
        "                        can_proceed_flag = False\n",
        "                        temp = replay_game_engine.world.find_node(t)\n",
        "                        while temp:\n",
        "                            if temp==replay_game_engine.world.player.container:\n",
        "                                can_proceed_flag = True\n",
        "                                break\n",
        "                            else:\n",
        "                                temp = temp.container\n",
        "                        if can_proceed_flag==False:\n",
        "                            raise Exception(\"Execution Error: in %s. You are not allowed to move an entity if the entity is in a different room\"%s)\n",
        "                        replay_game_engine.world.move_node(replay_game_engine.world.find_node(t), replay_game_engine.world.find_node(param_to))               \n",
        "                        #MoveNodeOperation(replay_game_engine.world, t, param_to).apply()\n",
        "                elif \"Add \" in effect:\n",
        "                    param = re.findall(r'\\{[a-z1-9 \\(\\)]+\\}', effect)\n",
        "                    assert len(param)==1\n",
        "                    param_object = param[0][1:-1]\n",
        "                    if param_object not in parameters:\n",
        "                        raise Exception(\"%s not defined. Valid parameters: %s\"%(param_object,', '.join([k for k in parameters.keys()])))\n",
        "                    for t in parameters[param_object]:\n",
        "                        print(\"Added\",t)\n",
        "                        if 'npc' in param:\n",
        "                            replay_game_engine.world.add_node(Character(t,'A '+t), replay_game_engine.world.find_node(\"Player\").container)  \n",
        "                        if 'object' in param:\n",
        "                            replay_game_engine.world.add_node(Item(t,'A '+t), replay_game_engine.world.find_node(\"Player\").container)               \n",
        "                        #AddNodeOperation(replay_game_engine.world, t, Item, \"A \"+t, replay_game_engine.world.player.container.name).apply()\n",
        "                elif \"Delete \" in effect:\n",
        "                    param = re.findall(r'\\{[a-z1-9 \\(\\)]+\\}', effect)\n",
        "                    assert len(param)==1\n",
        "                    param_object = param[0][1:-1]\n",
        "                    if param_object not in parameters:\n",
        "                        raise Exception(\"%s not defined. Valid parameters: %s\"%(param_object,', '.join([k for k in parameters.keys()])))\n",
        "                    for t in parameters[param_object]:\n",
        "                        print(\"Deleted\",t)\n",
        "                        replay_game_engine.world.remove_node(replay_game_engine.world.find_node(t))\n",
        "                        #DeleteNodeOperation(replay_game_engine.world, t).apply()\n",
        "\n",
        "                elif \"Set \" in effect:\n",
        "                    param = re.findall(r'\\{[a-zA-Z1-9._ \\(\\)]+\\}', effect)\n",
        "                    assert len(param)==2\n",
        "                    attribute, value = param[0][1:-1], param[1][1:-1]\n",
        "                    assert '.' in attribute\n",
        "                    assert value in ['True','False','AnyValue']\n",
        "                    param_object = attribute.split('.')[0]\n",
        "                    attribute_name = attribute.split('.')[1]\n",
        "                    if param_object not in parameters:\n",
        "                        raise Exception(\"%s not defined. Valid parameters: %s\"%(param_object,', '.join([k for k in parameters.keys()])))\n",
        "                    for t in parameters[param_object]:\n",
        "                        print(\"Set Attribute\",t,attribute_name, value)\n",
        "                        replay_game_engine.world.set_node_attribute(replay_game_engine.world.find_node(t),attribute_name, value)\n",
        "                        #SetNodeAttributeOperation(replay_game_engine.world, t, attribute_name, value).apply()\n",
        "                elif \"Display \" in effect:\n",
        "                    param = re.findall(r'\\{[a-zA-Z1-9._ \\(\\)]+\\}', effect)\n",
        "                    assert len(param)==1\n",
        "                    attribute = param[0][1:-1]\n",
        "                    param_object = attribute.split('.')[0]\n",
        "                    if param_object not in parameters and param_object not in ['inventory','environment']:\n",
        "                        raise Exception(\"%s not defined. Valid parameters: %s\"%(param_object,', '.join([k for k in parameters.keys()]+['inventory','environment'])))\n",
        "                    print(\"Displaying Message--- Detial:\",effect)\n",
        "                    #TODO implement DisplayMessageOperation and fill this\n",
        "            replay_game_engine.action_state[sentence_in_game_logic]=True\n",
        "            return True\n",
        "            \n",
        "    print(\"not an admissible action\")"
      ]
    },
    {
      "attachments": {},
      "cell_type": "markdown",
      "metadata": {
        "id": "N8L5o-V_CmsC"
      },
      "source": [
        "## play the game manualy following the gold story"
      ]
    },
    {
      "cell_type": "code",
      "execution_count": null,
      "metadata": {
        "id": "A8YZ1dVhdRXF"
      },
      "outputs": [],
      "source": [
        "# load game\n",
        "replay_game_engine.load('replay_game_world_werewolf.json','replay_game_engine_werewolf.json')"
      ]
    },
    {
      "cell_type": "code",
      "execution_count": null,
      "metadata": {
        "colab": {
          "base_uri": "https://localhost:8080/"
        },
        "id": "DAzeXR8N3tGq",
        "outputId": "fa438dc5-59c7-4720-9cf9-e4ba57c7d861"
      },
      "outputs": [
        {
          "data": {
            "text/plain": [
              "['speaks with {enum(npc)}', 'reads {enum(object)}', 'finds {object1}']"
            ]
          },
          "execution_count": 171,
          "metadata": {},
          "output_type": "execute_result"
        }
      ],
      "source": [
        "replay_game_engine.action_template"
      ]
    },
    {
      "cell_type": "code",
      "execution_count": null,
      "metadata": {
        "colab": {
          "base_uri": "https://localhost:8080/"
        },
        "id": "sn34gLSkTVBI",
        "outputId": "5f05f623-677f-4c1b-ae6b-98269fe97fa4"
      },
      "outputs": [
        {
          "name": "stdout",
          "output_type": "stream",
          "text": [
            "test find action in game_logics speaks with {enum(npc)} ['village elders'] speaks with village elders\n",
            "chosen sentence in game logic speaks with village elders adventurer speak with the village elders.\n",
            "template speaks with {enum(npc)}\n",
            "['enum(npc)']\n",
            "matching pattern: speaks with village elders speaks with (.*)\n",
            "speaks with (.*)\n",
            "parameters {'enum(npc)': ['village elders']}\n",
            "True\n"
          ]
        }
      ],
      "source": [
        "print(user_friendly_action_interpreter(\"speaks with village elders\"))"
      ]
    },
    {
      "cell_type": "code",
      "execution_count": null,
      "metadata": {
        "colab": {
          "base_uri": "https://localhost:8080/"
        },
        "id": "M4ENo1jIB7W5",
        "outputId": "9030b70d-63be-4dc7-dab4-2947bf2b9c9a"
      },
      "outputs": [
        {
          "name": "stdout",
          "output_type": "stream",
          "text": [
            "test find action in game_logics reads {enum(object)} ['book'] reads book\n",
            "chosen sentence in game logic reads book adventurer read books.\n",
            "template speaks with {enum(npc)}\n",
            "['enum(npc)']\n",
            "matching pattern: reads book speaks with (.*)\n",
            "speaks with (.*)\n",
            "template reads {enum(object)}\n",
            "['enum(object)']\n",
            "matching pattern: reads book reads (.*)\n",
            "reads (.*)\n",
            "parameters {'enum(object)': ['book']}\n",
            "Congratulation: you hit the correct action to obtain book\n",
            "Move {enum(object)} to {inventory}\n",
            "['{enum(object)}', '{inventory}']\n",
            "Moved book Player\n",
            "Display {enum(object).message}\n",
            "Displaying Message--- Detial: Display {enum(object).message}\n",
            "True\n"
          ]
        }
      ],
      "source": [
        "replay_game_engine.world.move_node(replay_game_engine.world.find_node(\"Player\"), replay_game_engine.world.find_node(\"library\"))\n",
        "#MoveNodeOperation(replay_game_engine.world, \"Player\", \"library\")\n",
        "print(user_friendly_action_interpreter(\"reads book\"))"
      ]
    },
    {
      "cell_type": "code",
      "execution_count": null,
      "metadata": {
        "colab": {
          "base_uri": "https://localhost:8080/"
        },
        "id": "T7o6V9cT0mrx",
        "outputId": "33938232-62c0-4a23-a608-cb4482f3a404"
      },
      "outputs": [
        {
          "name": "stdout",
          "output_type": "stream",
          "text": [
            "[Player]@(Your goal is resolve the curse of the werewolf)\n",
            "[Room]@(library-9697a694-d0af-4f83-8743-4a805d92a014)\n"
          ]
        }
      ],
      "source": [
        "print(replay_game_engine.world.find_node(\"book\").container)\n",
        "print(replay_game_engine.world.find_node(\"Player\").container)"
      ]
    },
    {
      "cell_type": "code",
      "execution_count": null,
      "metadata": {
        "colab": {
          "base_uri": "https://localhost:8080/"
        },
        "id": "KCZqDz4e1ElA",
        "outputId": "3f87f65f-e45d-4700-98f2-5faa344f3c91"
      },
      "outputs": [
        {
          "name": "stdout",
          "output_type": "stream",
          "text": [
            "test find action in game_logics finds {object1} ['map'] finds map\n",
            "chosen sentence in game logic finds map adventurer find maps.\n",
            "template speaks with {enum(npc)}\n",
            "['enum(npc)']\n",
            "matching pattern: finds map speaks with (.*)\n",
            "speaks with (.*)\n",
            "template reads {enum(object)}\n",
            "['enum(object)']\n",
            "matching pattern: finds map reads (.*)\n",
            "reads (.*)\n",
            "template finds {object1}\n",
            "['object1']\n",
            "matching pattern: finds map finds (.*)\n",
            "finds (.*)\n",
            "parameters {'object1': ['map']}\n",
            "Congratulation: you hit the correct action to obtain map\n",
            "Move {object1} to {inventory}\n",
            "['{object1}', '{inventory}']\n",
            "Moved map Player\n",
            "Display {object1.message}\n",
            "Displaying Message--- Detial: Display {object1.message}\n"
          ]
        },
        {
          "data": {
            "text/plain": [
              "True"
            ]
          },
          "execution_count": 175,
          "metadata": {},
          "output_type": "execute_result"
        }
      ],
      "source": [
        "#still at library\n",
        "user_friendly_action_interpreter(\"finds map\")"
      ]
    },
    {
      "attachments": {},
      "cell_type": "markdown",
      "metadata": {
        "id": "Hdfvt4ORPrWo"
      },
      "source": [
        "# Let's try if we can get the map without getting books first"
      ]
    },
    {
      "cell_type": "code",
      "execution_count": null,
      "metadata": {
        "colab": {
          "base_uri": "https://localhost:8080/",
          "height": 778
        },
        "id": "4o_GF4qtPyE5",
        "outputId": "6c7e54a5-0cd9-42e8-9759-b98749599f64"
      },
      "outputs": [
        {
          "name": "stdout",
          "output_type": "stream",
          "text": [
            "test find action in game_logics speaks with {enum(npc)} ['village elders'] speaks with village elders\n",
            "chosen sentence in game logic speaks with village elders adventurer speak with the village elders.\n",
            "template speaks with {enum(npc)}\n",
            "['enum(npc)']\n",
            "matching pattern: speaks with village elders speaks with (.*)\n",
            "speaks with (.*)\n",
            "parameters {'enum(npc)': ['village elders']}\n",
            "True\n",
            "test find action in game_logics finds {object1} ['map'] finds map\n",
            "chosen sentence in game logic finds map adventurer find maps.\n",
            "template speaks with {enum(npc)}\n",
            "['enum(npc)']\n",
            "matching pattern: finds map speaks with (.*)\n",
            "speaks with (.*)\n",
            "template reads {enum(object)}\n",
            "['enum(object)']\n",
            "matching pattern: finds map reads (.*)\n",
            "reads (.*)\n",
            "template finds {object1}\n",
            "['object1']\n",
            "matching pattern: finds map finds (.*)\n",
            "finds (.*)\n",
            "parameters {'object1': ['map']}\n"
          ]
        },
        {
          "ename": "Exception",
          "evalue": "ignored",
          "output_type": "error",
          "traceback": [
            "\u001b[0;31m---------------------------------------------------------------------------\u001b[0m",
            "\u001b[0;31mException\u001b[0m                                 Traceback (most recent call last)",
            "\u001b[0;32m<ipython-input-169-5f15828e75fc>\u001b[0m in \u001b[0;36m<cell line: 7>\u001b[0;34m()\u001b[0m\n\u001b[1;32m      5\u001b[0m \u001b[0mreplay_game_engine\u001b[0m\u001b[0;34m.\u001b[0m\u001b[0mworld\u001b[0m\u001b[0;34m.\u001b[0m\u001b[0mmove_node\u001b[0m\u001b[0;34m(\u001b[0m\u001b[0mreplay_game_engine\u001b[0m\u001b[0;34m.\u001b[0m\u001b[0mworld\u001b[0m\u001b[0;34m.\u001b[0m\u001b[0mfind_node\u001b[0m\u001b[0;34m(\u001b[0m\u001b[0;34m\"Player\"\u001b[0m\u001b[0;34m)\u001b[0m\u001b[0;34m,\u001b[0m \u001b[0mreplay_game_engine\u001b[0m\u001b[0;34m.\u001b[0m\u001b[0mworld\u001b[0m\u001b[0;34m.\u001b[0m\u001b[0mfind_node\u001b[0m\u001b[0;34m(\u001b[0m\u001b[0;34m\"library\"\u001b[0m\u001b[0;34m)\u001b[0m\u001b[0;34m)\u001b[0m\u001b[0;34m\u001b[0m\u001b[0;34m\u001b[0m\u001b[0m\n\u001b[1;32m      6\u001b[0m \u001b[0;31m#MoveNodeOperation(replay_game_engine.world, \"Player\", \"library\")\u001b[0m\u001b[0;34m\u001b[0m\u001b[0;34m\u001b[0m\u001b[0m\n\u001b[0;32m----> 7\u001b[0;31m \u001b[0mprint\u001b[0m\u001b[0;34m(\u001b[0m\u001b[0muser_friendly_action_interpreter\u001b[0m\u001b[0;34m(\u001b[0m\u001b[0;34m\"finds map\"\u001b[0m\u001b[0;34m)\u001b[0m\u001b[0;34m)\u001b[0m\u001b[0;34m\u001b[0m\u001b[0;34m\u001b[0m\u001b[0m\n\u001b[0m",
            "\u001b[0;32m<ipython-input-167-a6059cf4ab73>\u001b[0m in \u001b[0;36muser_friendly_action_interpreter\u001b[0;34m(sentence)\u001b[0m\n\u001b[1;32m     43\u001b[0m             \u001b[0;31m#check preconditions\u001b[0m\u001b[0;34m\u001b[0m\u001b[0;34m\u001b[0m\u001b[0m\n\u001b[1;32m     44\u001b[0m             \u001b[0;32mif\u001b[0m \u001b[0msentence_in_game_logic\u001b[0m \u001b[0;32min\u001b[0m \u001b[0mreplay_game_engine\u001b[0m\u001b[0;34m.\u001b[0m\u001b[0mgame_logics\u001b[0m\u001b[0;34m:\u001b[0m\u001b[0;34m\u001b[0m\u001b[0;34m\u001b[0m\u001b[0m\n\u001b[0;32m---> 45\u001b[0;31m                 \u001b[0mreplay_game_engine\u001b[0m\u001b[0;34m.\u001b[0m\u001b[0mcheck_if_precondtions_have_been_met\u001b[0m\u001b[0;34m(\u001b[0m\u001b[0msentence_in_game_logic\u001b[0m\u001b[0;34m)\u001b[0m\u001b[0;34m\u001b[0m\u001b[0;34m\u001b[0m\u001b[0m\n\u001b[0m\u001b[1;32m     46\u001b[0m                 \u001b[0;32mfor\u001b[0m \u001b[0mentity\u001b[0m \u001b[0;32min\u001b[0m \u001b[0mreplay_game_engine\u001b[0m\u001b[0;34m.\u001b[0m\u001b[0maction_general_constraints\u001b[0m\u001b[0;34m[\u001b[0m\u001b[0mtemplate\u001b[0m\u001b[0;34m]\u001b[0m\u001b[0;34m:\u001b[0m\u001b[0;34m\u001b[0m\u001b[0;34m\u001b[0m\u001b[0m\n\u001b[1;32m     47\u001b[0m                     \u001b[0;32mfor\u001b[0m \u001b[0mattribute\u001b[0m \u001b[0;32min\u001b[0m \u001b[0mreplay_game_engine\u001b[0m\u001b[0;34m.\u001b[0m\u001b[0maction_general_constraints\u001b[0m\u001b[0;34m[\u001b[0m\u001b[0mtemplate\u001b[0m\u001b[0;34m]\u001b[0m\u001b[0;34m[\u001b[0m\u001b[0mentity\u001b[0m\u001b[0;34m]\u001b[0m\u001b[0;34m:\u001b[0m\u001b[0;34m\u001b[0m\u001b[0;34m\u001b[0m\u001b[0m\n",
            "\u001b[0;32m<ipython-input-94-d55dd32b04df>\u001b[0m in \u001b[0;36mcheck_if_precondtions_have_been_met\u001b[0;34m(self, action)\u001b[0m\n\u001b[1;32m    353\u001b[0m         \u001b[0;32mfor\u001b[0m \u001b[0mitem\u001b[0m \u001b[0;32min\u001b[0m \u001b[0mself\u001b[0m\u001b[0;34m.\u001b[0m\u001b[0mgame_logics\u001b[0m\u001b[0;34m[\u001b[0m\u001b[0maction\u001b[0m\u001b[0;34m]\u001b[0m\u001b[0;34m[\u001b[0m\u001b[0;34m'item needed'\u001b[0m\u001b[0;34m]\u001b[0m\u001b[0;34m:\u001b[0m\u001b[0;34m\u001b[0m\u001b[0;34m\u001b[0m\u001b[0m\n\u001b[1;32m    354\u001b[0m             \u001b[0;32mif\u001b[0m \u001b[0mself\u001b[0m\u001b[0;34m.\u001b[0m\u001b[0mworld\u001b[0m\u001b[0;34m.\u001b[0m\u001b[0mfind_node\u001b[0m\u001b[0;34m(\u001b[0m\u001b[0mget_lemma\u001b[0m\u001b[0;34m(\u001b[0m\u001b[0mitem\u001b[0m\u001b[0;34m[\u001b[0m\u001b[0;36m4\u001b[0m\u001b[0;34m:\u001b[0m\u001b[0;34m]\u001b[0m\u001b[0;34m)\u001b[0m\u001b[0;34m)\u001b[0m\u001b[0;34m.\u001b[0m\u001b[0mcontainer\u001b[0m \u001b[0;34m!=\u001b[0m \u001b[0mself\u001b[0m\u001b[0;34m.\u001b[0m\u001b[0mworld\u001b[0m\u001b[0;34m.\u001b[0m\u001b[0mplayer\u001b[0m\u001b[0;34m:\u001b[0m\u001b[0;34m\u001b[0m\u001b[0;34m\u001b[0m\u001b[0m\n\u001b[0;32m--> 355\u001b[0;31m                 \u001b[0;32mraise\u001b[0m \u001b[0mException\u001b[0m\u001b[0;34m(\u001b[0m\u001b[0;34m\"You must obtain %s before perform the action\"\u001b[0m\u001b[0;34m%\u001b[0m\u001b[0mitem\u001b[0m\u001b[0;34m[\u001b[0m\u001b[0;36m4\u001b[0m\u001b[0;34m:\u001b[0m\u001b[0;34m]\u001b[0m\u001b[0;34m)\u001b[0m\u001b[0;34m\u001b[0m\u001b[0;34m\u001b[0m\u001b[0m\n\u001b[0m\u001b[1;32m    356\u001b[0m \u001b[0;34m\u001b[0m\u001b[0m\n\u001b[1;32m    357\u001b[0m         \u001b[0;32mfor\u001b[0m \u001b[0mevent\u001b[0m \u001b[0;32min\u001b[0m \u001b[0mself\u001b[0m\u001b[0;34m.\u001b[0m\u001b[0mgame_logics\u001b[0m\u001b[0;34m[\u001b[0m\u001b[0maction\u001b[0m\u001b[0;34m]\u001b[0m\u001b[0;34m[\u001b[0m\u001b[0;34m'preceeding_events'\u001b[0m\u001b[0;34m]\u001b[0m\u001b[0;34m:\u001b[0m\u001b[0;34m\u001b[0m\u001b[0;34m\u001b[0m\u001b[0m\n",
            "\u001b[0;31mException\u001b[0m: You must obtain books before perform the action"
          ]
        }
      ],
      "source": [
        "# load game\n",
        "replay_game_engine.load('replay_game_world_werewolf.json','replay_game_engine_werewolf.json')\n",
        "\n",
        "print(user_friendly_action_interpreter(\"speaks with village elders\"))\n",
        "replay_game_engine.world.move_node(replay_game_engine.world.find_node(\"Player\"), replay_game_engine.world.find_node(\"library\"))\n",
        "#MoveNodeOperation(replay_game_engine.world, \"Player\", \"library\")\n",
        "print(user_friendly_action_interpreter(\"finds map\"))\n"
      ]
    },
    {
      "attachments": {},
      "cell_type": "markdown",
      "metadata": {
        "id": "aN2zx_ZpO5GR"
      },
      "source": [
        "# Now let try if we cab bypass some preceeding events (obtain the map without finds map)"
      ]
    },
    {
      "cell_type": "code",
      "execution_count": null,
      "metadata": {
        "colab": {
          "base_uri": "https://localhost:8080/"
        },
        "id": "KkZWivK3agj9",
        "outputId": "11fd5822-8dcb-4f7f-85db-aece9cf7e8e8"
      },
      "outputs": [
        {
          "data": {
            "text/plain": [
              "{'book': ['adventurer read books.'], 'map': ['adventurer find maps.']}"
            ]
          },
          "execution_count": 162,
          "metadata": {},
          "output_type": "execute_result"
        }
      ],
      "source": [
        "replay_game_engine.obtainable_item_to_game_logic_action_map"
      ]
    },
    {
      "attachments": {},
      "cell_type": "markdown",
      "metadata": {
        "id": "CQHq3M2edbkG"
      },
      "source": [
        "### Note that read {enum(object)} in this game move the objects into inventory"
      ]
    },
    {
      "cell_type": "code",
      "execution_count": null,
      "metadata": {
        "colab": {
          "base_uri": "https://localhost:8080/"
        },
        "id": "JEWwu6b0Z2Ol",
        "outputId": "a03a4e94-440e-4c84-ec29-99c42bebe62d"
      },
      "outputs": [
        {
          "name": "stdout",
          "output_type": "stream",
          "text": [
            "['Move {enum(object)} to {inventory}', 'Display {enum(object).message}']\n"
          ]
        }
      ],
      "source": [
        "print(replay_game_engine.action_effects['reads {enum(object)}'])"
      ]
    },
    {
      "cell_type": "code",
      "execution_count": null,
      "metadata": {
        "colab": {
          "base_uri": "https://localhost:8080/"
        },
        "id": "UGZpouiSPP0_",
        "outputId": "0d502125-70d8-4726-c279-da5e0a9a9d66"
      },
      "outputs": [
        {
          "name": "stdout",
          "output_type": "stream",
          "text": [
            "test find action in game_logics speaks with {enum(npc)} ['village elders'] speaks with village elders\n",
            "chosen sentence in game logic speaks with village elders adventurer speak with the village elders.\n",
            "template speaks with {enum(npc)}\n",
            "['enum(npc)']\n",
            "matching pattern: speaks with village elders speaks with (.*)\n",
            "speaks with (.*)\n",
            "parameters {'enum(npc)': ['village elders']}\n",
            "True\n",
            "test find action in game_logics reads {enum(object)} ['book'] reads map\n",
            "chosen sentence in game logic reads map \n",
            "template speaks with {enum(npc)}\n",
            "['enum(npc)']\n",
            "matching pattern: reads map speaks with (.*)\n",
            "speaks with (.*)\n",
            "template reads {enum(object)}\n",
            "['enum(object)']\n",
            "matching pattern: reads map reads (.*)\n",
            "reads (.*)\n",
            "parameters {'enum(object)': ['map']}\n",
            "It doesn't work.\n",
            "False\n"
          ]
        }
      ],
      "source": [
        "# load game\n",
        "replay_game_engine.load('replay_game_world_werewolf.json','replay_game_engine_werewolf.json')\n",
        "\n",
        "print(user_friendly_action_interpreter(\"speaks with village elders\"))\n",
        "replay_game_engine.world.move_node(replay_game_engine.world.find_node(\"Player\"), replay_game_engine.world.find_node(\"library\"))\n",
        "#MoveNodeOperation(replay_game_engine.world, \"Player\", \"library\")\n",
        "print(user_friendly_action_interpreter(\"reads map\"))\n"
      ]
    },
    {
      "attachments": {},
      "cell_type": "markdown",
      "metadata": {
        "id": "UCfPTOCA0s5w"
      },
      "source": [
        "# not included in this test"
      ]
    },
    {
      "cell_type": "code",
      "execution_count": null,
      "metadata": {
        "colab": {
          "base_uri": "https://localhost:8080/"
        },
        "id": "73S7vVDd14Rw",
        "outputId": "a5a68439-5e6c-4cab-f625-663c305ebcc7"
      },
      "outputs": [
        {
          "name": "stdout",
          "output_type": "stream",
          "text": [
            "[Player]@(Your goal is resolve the curse of the werewolf)\n"
          ]
        }
      ],
      "source": [
        "print(replay_game_engine.world.find_node(\"map\").container)"
      ]
    },
    {
      "cell_type": "code",
      "execution_count": null,
      "metadata": {
        "id": "JEMlfup7rTyL"
      },
      "outputs": [],
      "source": []
    },
    {
      "cell_type": "code",
      "execution_count": null,
      "metadata": {
        "colab": {
          "base_uri": "https://localhost:8080/"
        },
        "id": "xlACNsrB2RkQ",
        "outputId": "76720a79-966d-4166-f6b9-caf6dc5ea72e"
      },
      "outputs": [
        {
          "name": "stdout",
          "output_type": "stream",
          "text": [
            "took torch adventurer take torch.\n",
            "spoke with (.*)\n",
            "reads (.*)\n",
            "found (.*)\n",
            "took (.*)\n",
            "parameters {'object1': ['torch']}\n",
            "Move {object1} to {inventory}\n",
            "['{object1}', '{inventory}']\n",
            "Moved torch Player\n"
          ]
        },
        {
          "data": {
            "text/plain": [
              "True"
            ]
          },
          "execution_count": 23,
          "metadata": {},
          "output_type": "execute_result"
        }
      ],
      "source": [
        "#move to general store\n",
        "replay_game_engine.world.move_node(replay_game_engine.world.find_node(\"Player\"), replay_game_engine.world.find_node(\"general store\"))\n",
        "user_friendly_action_interpreter(\"took torch\", 'adventurer take torch.')\n"
      ]
    },
    {
      "cell_type": "code",
      "execution_count": null,
      "metadata": {
        "colab": {
          "base_uri": "https://localhost:8080/"
        },
        "id": "YcqFGe913NZA",
        "outputId": "4eeefc25-8141-4192-9b3a-9a3b01b85c39"
      },
      "outputs": [
        {
          "name": "stdout",
          "output_type": "stream",
          "text": [
            "Player(player-856411f5-5e7b-4dee-bf4e-fda3cde80058, Player, You are the player.)\n",
            "Room(general-store-9dded7e9-c813-4e23-b32f-6bc63f9b2ebe, general store, You are at general store)\n"
          ]
        }
      ],
      "source": [
        "print(replay_game_engine.world.find_node(\"torch\").container)\n",
        "print(replay_game_engine.world.find_node(\"Player\").container)"
      ]
    },
    {
      "cell_type": "code",
      "execution_count": null,
      "metadata": {
        "colab": {
          "base_uri": "https://localhost:8080/",
          "height": 467
        },
        "id": "ibLrtiLU3Qxx",
        "outputId": "50e1a80f-67a0-41ab-aebb-f3d0e74b0524"
      },
      "outputs": [
        {
          "name": "stdout",
          "output_type": "stream",
          "text": [
            "found werewolf den with map, torch adventurer find the werewolf den with maps, torch\n",
            "spoke with (.*)\n",
            "reads (.*)\n",
            "found (.*)\n",
            "parameters {'object1': ['werewolf den with map, torch']}\n"
          ]
        },
        {
          "ename": "ValueError",
          "evalue": "ignored",
          "output_type": "error",
          "traceback": [
            "\u001b[0;31m---------------------------------------------------------------------------\u001b[0m",
            "\u001b[0;31mValueError\u001b[0m                                Traceback (most recent call last)",
            "\u001b[0;32m<ipython-input-25-0a0ff00c6964>\u001b[0m in \u001b[0;36m<cell line: 3>\u001b[0;34m()\u001b[0m\n\u001b[1;32m      1\u001b[0m \u001b[0;31m#move to general forest\u001b[0m\u001b[0;34m\u001b[0m\u001b[0;34m\u001b[0m\u001b[0m\n\u001b[1;32m      2\u001b[0m \u001b[0mreplay_game_engine\u001b[0m\u001b[0;34m.\u001b[0m\u001b[0mworld\u001b[0m\u001b[0;34m.\u001b[0m\u001b[0mmove_node\u001b[0m\u001b[0;34m(\u001b[0m\u001b[0mreplay_game_engine\u001b[0m\u001b[0;34m.\u001b[0m\u001b[0mworld\u001b[0m\u001b[0;34m.\u001b[0m\u001b[0mfind_node\u001b[0m\u001b[0;34m(\u001b[0m\u001b[0;34m\"Player\"\u001b[0m\u001b[0;34m)\u001b[0m\u001b[0;34m,\u001b[0m \u001b[0mreplay_game_engine\u001b[0m\u001b[0;34m.\u001b[0m\u001b[0mworld\u001b[0m\u001b[0;34m.\u001b[0m\u001b[0mfind_node\u001b[0m\u001b[0;34m(\u001b[0m\u001b[0;34m\"forest\"\u001b[0m\u001b[0;34m)\u001b[0m\u001b[0;34m)\u001b[0m\u001b[0;34m\u001b[0m\u001b[0;34m\u001b[0m\u001b[0m\n\u001b[0;32m----> 3\u001b[0;31m \u001b[0muser_friendly_action_interpreter\u001b[0m\u001b[0;34m(\u001b[0m\u001b[0;34m\"found werewolf den with map, torch\"\u001b[0m\u001b[0;34m,\u001b[0m \u001b[0;34m'adventurer find the werewolf den with maps, torch'\u001b[0m\u001b[0;34m)\u001b[0m\u001b[0;34m\u001b[0m\u001b[0;34m\u001b[0m\u001b[0m\n\u001b[0m",
            "\u001b[0;32m<ipython-input-16-ce9a9ea869a3>\u001b[0m in \u001b[0;36muser_friendly_action_interpreter\u001b[0;34m(sentence, sentence_in_game_logic)\u001b[0m\n\u001b[1;32m     33\u001b[0m                         \u001b[0;31m#print(entity,attribute, \"should be equal to\", replay_game_engine.action_general_constraints[template][entity][attribute])\u001b[0m\u001b[0;34m\u001b[0m\u001b[0;34m\u001b[0m\u001b[0m\n\u001b[1;32m     34\u001b[0m                         \u001b[0;32mfor\u001b[0m \u001b[0mt\u001b[0m \u001b[0;32min\u001b[0m \u001b[0mparameters\u001b[0m\u001b[0;34m[\u001b[0m\u001b[0mentity\u001b[0m\u001b[0;34m]\u001b[0m\u001b[0;34m:\u001b[0m\u001b[0;34m\u001b[0m\u001b[0;34m\u001b[0m\u001b[0m\n\u001b[0;32m---> 35\u001b[0;31m                             \u001b[0;32mif\u001b[0m \u001b[0mreplay_game_engine\u001b[0m\u001b[0;34m.\u001b[0m\u001b[0mworld\u001b[0m\u001b[0;34m.\u001b[0m\u001b[0mfind_node\u001b[0m\u001b[0;34m(\u001b[0m\u001b[0mt\u001b[0m\u001b[0;34m)\u001b[0m\u001b[0;34m.\u001b[0m\u001b[0m_get_attribute\u001b[0m\u001b[0;34m(\u001b[0m\u001b[0mattribute\u001b[0m\u001b[0;34m)\u001b[0m\u001b[0;34m!=\u001b[0m\u001b[0;34m'AnyValue'\u001b[0m \u001b[0;32mand\u001b[0m\u001b[0;31m \u001b[0m\u001b[0;31m\\\u001b[0m\u001b[0;34m\u001b[0m\u001b[0;34m\u001b[0m\u001b[0m\n\u001b[0m\u001b[1;32m     36\u001b[0m                                 \u001b[0mreplay_game_engine\u001b[0m\u001b[0;34m.\u001b[0m\u001b[0maction_general_constraints\u001b[0m\u001b[0;34m[\u001b[0m\u001b[0mtemplate\u001b[0m\u001b[0;34m]\u001b[0m\u001b[0;34m[\u001b[0m\u001b[0mentity\u001b[0m\u001b[0;34m]\u001b[0m\u001b[0;34m[\u001b[0m\u001b[0mattribute\u001b[0m\u001b[0;34m]\u001b[0m\u001b[0;34m!=\u001b[0m\u001b[0;34m'AnyValue'\u001b[0m \u001b[0;32mand\u001b[0m\u001b[0;31m \u001b[0m\u001b[0;31m\\\u001b[0m\u001b[0;34m\u001b[0m\u001b[0;34m\u001b[0m\u001b[0m\n\u001b[1;32m     37\u001b[0m                                 \u001b[0mreplay_game_engine\u001b[0m\u001b[0;34m.\u001b[0m\u001b[0maction_general_constraints\u001b[0m\u001b[0;34m[\u001b[0m\u001b[0mtemplate\u001b[0m\u001b[0;34m]\u001b[0m\u001b[0;34m[\u001b[0m\u001b[0mentity\u001b[0m\u001b[0;34m]\u001b[0m\u001b[0;34m[\u001b[0m\u001b[0mattribute\u001b[0m\u001b[0;34m]\u001b[0m\u001b[0;34m!=\u001b[0m\u001b[0mreplay_game_engine\u001b[0m\u001b[0;34m.\u001b[0m\u001b[0mworld\u001b[0m\u001b[0;34m.\u001b[0m\u001b[0mfind_node\u001b[0m\u001b[0;34m(\u001b[0m\u001b[0mt\u001b[0m\u001b[0;34m)\u001b[0m\u001b[0;34m.\u001b[0m\u001b[0m_get_attribute\u001b[0m\u001b[0;34m(\u001b[0m\u001b[0mattribute\u001b[0m\u001b[0;34m)\u001b[0m\u001b[0;34m:\u001b[0m\u001b[0;34m\u001b[0m\u001b[0;34m\u001b[0m\u001b[0m\n",
            "\u001b[0;32m/content/world.py\u001b[0m in \u001b[0;36mfind_node\u001b[0;34m(self, name)\u001b[0m\n\u001b[1;32m     31\u001b[0m                 \u001b[0mnodes\u001b[0m\u001b[0;34m.\u001b[0m\u001b[0mappend\u001b[0m\u001b[0;34m(\u001b[0m\u001b[0mt\u001b[0m\u001b[0;34m)\u001b[0m\u001b[0;34m\u001b[0m\u001b[0;34m\u001b[0m\u001b[0m\n\u001b[1;32m     32\u001b[0m         \u001b[0;32mif\u001b[0m \u001b[0mlen\u001b[0m\u001b[0;34m(\u001b[0m\u001b[0mnodes\u001b[0m\u001b[0;34m)\u001b[0m \u001b[0;34m==\u001b[0m \u001b[0;36m0\u001b[0m\u001b[0;34m:\u001b[0m\u001b[0;34m\u001b[0m\u001b[0;34m\u001b[0m\u001b[0m\n\u001b[0;32m---> 33\u001b[0;31m             \u001b[0;32mraise\u001b[0m \u001b[0mValueError\u001b[0m\u001b[0;34m(\u001b[0m\u001b[0;34mf\"No node found with name '{name}'.\"\u001b[0m\u001b[0;34m)\u001b[0m\u001b[0;34m\u001b[0m\u001b[0;34m\u001b[0m\u001b[0m\n\u001b[0m\u001b[1;32m     34\u001b[0m         \u001b[0;32melif\u001b[0m \u001b[0mlen\u001b[0m\u001b[0;34m(\u001b[0m\u001b[0mnodes\u001b[0m\u001b[0;34m)\u001b[0m \u001b[0;34m>\u001b[0m \u001b[0;36m1\u001b[0m\u001b[0;34m:\u001b[0m\u001b[0;34m\u001b[0m\u001b[0;34m\u001b[0m\u001b[0m\n\u001b[1;32m     35\u001b[0m             \u001b[0;32mraise\u001b[0m \u001b[0mValueError\u001b[0m\u001b[0;34m(\u001b[0m\u001b[0;34mf\"Multiple nodes found with name '{name}'.\"\u001b[0m\u001b[0;34m)\u001b[0m\u001b[0;34m\u001b[0m\u001b[0;34m\u001b[0m\u001b[0m\n",
            "\u001b[0;31mValueError\u001b[0m: No node found with name 'werewolf den with map, torch'."
          ]
        }
      ],
      "source": [
        "#move to general forest\n",
        "replay_game_engine.world.move_node(replay_game_engine.world.find_node(\"Player\"), replay_game_engine.world.find_node(\"forest\"))\n",
        "user_friendly_action_interpreter(\"found werewolf den with map, torch\", 'adventurer find the werewolf den with maps, torch')\n"
      ]
    },
    {
      "cell_type": "code",
      "execution_count": null,
      "metadata": {
        "colab": {
          "base_uri": "https://localhost:8080/"
        },
        "id": "DzlR6b5f4mIg",
        "outputId": "ffd534da-f975-4246-db38-296717c2483c"
      },
      "outputs": [
        {
          "name": "stdout",
          "output_type": "stream",
          "text": [
            "took basket adventurer take basket.\n",
            "spoke with (.*)\n",
            "reads (.*)\n",
            "found (.*) within (.*)\n",
            "took (.*)\n",
            "parameters {'object1': ['basket']}\n",
            "Move {object1} to {inventory}\n",
            "['{object1}', '{inventory}']\n",
            "Moved basket Player\n"
          ]
        },
        {
          "data": {
            "text/plain": [
              "True"
            ]
          },
          "execution_count": 257,
          "metadata": {},
          "output_type": "execute_result"
        }
      ],
      "source": [
        "#still at forest\n",
        "user_friendly_action_interpreter(\"took basket\", 'adventurer take basket.')\n"
      ]
    },
    {
      "cell_type": "code",
      "execution_count": null,
      "metadata": {
        "colab": {
          "base_uri": "https://localhost:8080/"
        },
        "id": "uq4xbz_U35_R",
        "outputId": "96b09c55-bb3f-4cca-b08b-f82efbb14826"
      },
      "outputs": [
        {
          "name": "stdout",
          "output_type": "stream",
          "text": [
            "Player(player-d68160f3-ef31-4f16-a31b-943c98d1b3b0, Player, You are the player.)\n"
          ]
        }
      ],
      "source": [
        "print(replay_game_engine.world.find_node(\"basket\").container)"
      ]
    },
    {
      "attachments": {},
      "cell_type": "markdown",
      "metadata": {
        "id": "ppVlclWCC6Mk"
      },
      "source": [
        "## Test action not in the gold story"
      ]
    },
    {
      "cell_type": "code",
      "execution_count": null,
      "metadata": {
        "colab": {
          "base_uri": "https://localhost:8080/"
        },
        "id": "biD1yEuAC5ya",
        "outputId": "71f5c03b-b3b0-44cc-c749-aa458fedc427"
      },
      "outputs": [
        {
          "name": "stdout",
          "output_type": "stream",
          "text": [
            "defaultdict(<function GameEngine.__init__.<locals>.<lambda> at 0x7f4f162c4b80>, {})\n"
          ]
        }
      ],
      "source": [
        "replay_game_engine = copy.deepcopy(replay_game_engine_copy)\n",
        "replay_game_engine.action_template = copy.deepcopy(game_engine.action_template)\n",
        "replay_game_engine.action_effects = copy.deepcopy(game_engine.action_effects)\n",
        "replay_game_engine.action_general_constraints = copy.deepcopy(game_engine.action_general_constraints)\n",
        "print(replay_game_engine.action_state)\n"
      ]
    },
    {
      "cell_type": "code",
      "execution_count": null,
      "metadata": {
        "colab": {
          "base_uri": "https://localhost:8080/"
        },
        "id": "WE5BtUmRDCKC",
        "outputId": "ee4a4b3f-076f-4236-d07d-04e63a92e2a5"
      },
      "outputs": [
        {
          "name": "stdout",
          "output_type": "stream",
          "text": [
            "took book \n",
            "spoke with (.*)\n",
            "reads (.*)\n",
            "found (.*) within (.*)\n",
            "took (.*)\n",
            "parameters {'object1': ['book']}\n",
            "Move {object1} to {inventory}\n",
            "['{object1}', '{inventory}']\n",
            "Moved book Player\n"
          ]
        },
        {
          "data": {
            "text/plain": [
              "True"
            ]
          },
          "execution_count": 260,
          "metadata": {},
          "output_type": "execute_result"
        }
      ],
      "source": [
        "#test if I can go the library and take the book\n",
        "replay_game_engine.world.move_node(replay_game_engine.world.find_node(\"Player\"), replay_game_engine.world.find_node(\"library\"))\n",
        "user_friendly_action_interpreter(\"took book\", '')\n"
      ]
    },
    {
      "cell_type": "code",
      "execution_count": null,
      "metadata": {
        "colab": {
          "base_uri": "https://localhost:8080/"
        },
        "id": "yulcq2jBEE2K",
        "outputId": "96163071-6734-4ed7-d120-1e3f22bb8246"
      },
      "outputs": [
        {
          "data": {
            "text/plain": [
              "Player(player-d68160f3-ef31-4f16-a31b-943c98d1b3b0, Player, You are the player.)"
            ]
          },
          "execution_count": 262,
          "metadata": {},
          "output_type": "execute_result"
        }
      ],
      "source": [
        "replay_game_engine.world.find_node(\"book\").container"
      ]
    },
    {
      "cell_type": "code",
      "execution_count": null,
      "metadata": {
        "colab": {
          "base_uri": "https://localhost:8080/",
          "height": 502
        },
        "id": "Y-bkddDtEZy0",
        "outputId": "7342e7df-588b-4788-cb45-f3a249399f10"
      },
      "outputs": [
        {
          "name": "stdout",
          "output_type": "stream",
          "text": [
            "found werewolf den with map, torch adventurer find the werewolf den with maps, torch\n",
            "spoke with (.*)\n",
            "reads (.*)\n",
            "found (.*) within (.*)\n",
            "took (.*)\n",
            "found (.*) with (.*)\n",
            "parameters {'room1': ['werewolf den'], 'enum(object)': ['map', 'torch']}\n"
          ]
        },
        {
          "ename": "Exception",
          "evalue": "ignored",
          "output_type": "error",
          "traceback": [
            "\u001b[0;31m---------------------------------------------------------------------------\u001b[0m",
            "\u001b[0;31mException\u001b[0m                                 Traceback (most recent call last)",
            "\u001b[0;32m<ipython-input-263-0a0ff00c6964>\u001b[0m in \u001b[0;36m<cell line: 3>\u001b[0;34m()\u001b[0m\n\u001b[1;32m      1\u001b[0m \u001b[0;31m#move to general forest\u001b[0m\u001b[0;34m\u001b[0m\u001b[0;34m\u001b[0m\u001b[0m\n\u001b[1;32m      2\u001b[0m \u001b[0mreplay_game_engine\u001b[0m\u001b[0;34m.\u001b[0m\u001b[0mworld\u001b[0m\u001b[0;34m.\u001b[0m\u001b[0mmove_node\u001b[0m\u001b[0;34m(\u001b[0m\u001b[0mreplay_game_engine\u001b[0m\u001b[0;34m.\u001b[0m\u001b[0mworld\u001b[0m\u001b[0;34m.\u001b[0m\u001b[0mfind_node\u001b[0m\u001b[0;34m(\u001b[0m\u001b[0;34m\"Player\"\u001b[0m\u001b[0;34m)\u001b[0m\u001b[0;34m,\u001b[0m \u001b[0mreplay_game_engine\u001b[0m\u001b[0;34m.\u001b[0m\u001b[0mworld\u001b[0m\u001b[0;34m.\u001b[0m\u001b[0mfind_node\u001b[0m\u001b[0;34m(\u001b[0m\u001b[0;34m\"forest\"\u001b[0m\u001b[0;34m)\u001b[0m\u001b[0;34m)\u001b[0m\u001b[0;34m\u001b[0m\u001b[0;34m\u001b[0m\u001b[0m\n\u001b[0;32m----> 3\u001b[0;31m \u001b[0muser_friendly_action_interpreter\u001b[0m\u001b[0;34m(\u001b[0m\u001b[0;34m\"found werewolf den with map, torch\"\u001b[0m\u001b[0;34m,\u001b[0m \u001b[0;34m'adventurer find the werewolf den with maps, torch'\u001b[0m\u001b[0;34m)\u001b[0m\u001b[0;34m\u001b[0m\u001b[0;34m\u001b[0m\u001b[0m\n\u001b[0m",
            "\u001b[0;32m<ipython-input-248-ce9a9ea869a3>\u001b[0m in \u001b[0;36muser_friendly_action_interpreter\u001b[0;34m(sentence, sentence_in_game_logic)\u001b[0m\n\u001b[1;32m     28\u001b[0m             \u001b[0;31m#check preconditions\u001b[0m\u001b[0;34m\u001b[0m\u001b[0;34m\u001b[0m\u001b[0m\n\u001b[1;32m     29\u001b[0m             \u001b[0;32mif\u001b[0m \u001b[0msentence_in_game_logic\u001b[0m \u001b[0;32min\u001b[0m \u001b[0mreplay_game_engine\u001b[0m\u001b[0;34m.\u001b[0m\u001b[0mgame_logics\u001b[0m\u001b[0;34m:\u001b[0m\u001b[0;34m\u001b[0m\u001b[0;34m\u001b[0m\u001b[0m\n\u001b[0;32m---> 30\u001b[0;31m                 \u001b[0mreplay_game_engine\u001b[0m\u001b[0;34m.\u001b[0m\u001b[0mcheck_if_precondtions_have_been_met\u001b[0m\u001b[0;34m(\u001b[0m\u001b[0msentence_in_game_logic\u001b[0m\u001b[0;34m)\u001b[0m\u001b[0;34m\u001b[0m\u001b[0;34m\u001b[0m\u001b[0m\n\u001b[0m\u001b[1;32m     31\u001b[0m                 \u001b[0;32mfor\u001b[0m \u001b[0mentity\u001b[0m \u001b[0;32min\u001b[0m \u001b[0mreplay_game_engine\u001b[0m\u001b[0;34m.\u001b[0m\u001b[0maction_general_constraints\u001b[0m\u001b[0;34m[\u001b[0m\u001b[0mtemplate\u001b[0m\u001b[0;34m]\u001b[0m\u001b[0;34m:\u001b[0m\u001b[0;34m\u001b[0m\u001b[0;34m\u001b[0m\u001b[0m\n\u001b[1;32m     32\u001b[0m                     \u001b[0;32mfor\u001b[0m \u001b[0mattribute\u001b[0m \u001b[0;32min\u001b[0m \u001b[0mreplay_game_engine\u001b[0m\u001b[0;34m.\u001b[0m\u001b[0maction_general_constraints\u001b[0m\u001b[0;34m[\u001b[0m\u001b[0mtemplate\u001b[0m\u001b[0;34m]\u001b[0m\u001b[0;34m[\u001b[0m\u001b[0mentity\u001b[0m\u001b[0;34m]\u001b[0m\u001b[0;34m:\u001b[0m\u001b[0;34m\u001b[0m\u001b[0;34m\u001b[0m\u001b[0m\n",
            "\u001b[0;32m<ipython-input-2-890fe87d270c>\u001b[0m in \u001b[0;36mcheck_if_precondtions_have_been_met\u001b[0;34m(self, action)\u001b[0m\n\u001b[1;32m    327\u001b[0m         \u001b[0;32mfor\u001b[0m \u001b[0mitem\u001b[0m \u001b[0;32min\u001b[0m \u001b[0mself\u001b[0m\u001b[0;34m.\u001b[0m\u001b[0mgame_logics\u001b[0m\u001b[0;34m[\u001b[0m\u001b[0maction\u001b[0m\u001b[0;34m]\u001b[0m\u001b[0;34m[\u001b[0m\u001b[0;34m'item needed'\u001b[0m\u001b[0;34m]\u001b[0m\u001b[0;34m:\u001b[0m\u001b[0;34m\u001b[0m\u001b[0;34m\u001b[0m\u001b[0m\n\u001b[1;32m    328\u001b[0m             \u001b[0;32mif\u001b[0m \u001b[0mself\u001b[0m\u001b[0;34m.\u001b[0m\u001b[0mworld\u001b[0m\u001b[0;34m.\u001b[0m\u001b[0mfind_node\u001b[0m\u001b[0;34m(\u001b[0m\u001b[0mget_lemma\u001b[0m\u001b[0;34m(\u001b[0m\u001b[0mitem\u001b[0m\u001b[0;34m[\u001b[0m\u001b[0;36m4\u001b[0m\u001b[0;34m:\u001b[0m\u001b[0;34m]\u001b[0m\u001b[0;34m)\u001b[0m\u001b[0;34m)\u001b[0m\u001b[0;34m.\u001b[0m\u001b[0mcontainer\u001b[0m \u001b[0;34m!=\u001b[0m \u001b[0mself\u001b[0m\u001b[0;34m.\u001b[0m\u001b[0mplayer\u001b[0m\u001b[0;34m:\u001b[0m\u001b[0;34m\u001b[0m\u001b[0;34m\u001b[0m\u001b[0m\n\u001b[0;32m--> 329\u001b[0;31m                 \u001b[0;32mraise\u001b[0m \u001b[0mException\u001b[0m\u001b[0;34m(\u001b[0m\u001b[0;34m\"You must obtain %s before perform the action\"\u001b[0m\u001b[0;34m%\u001b[0m\u001b[0mitem\u001b[0m\u001b[0;34m[\u001b[0m\u001b[0;36m4\u001b[0m\u001b[0;34m:\u001b[0m\u001b[0;34m]\u001b[0m\u001b[0;34m)\u001b[0m\u001b[0;34m\u001b[0m\u001b[0;34m\u001b[0m\u001b[0m\n\u001b[0m\u001b[1;32m    330\u001b[0m \u001b[0;34m\u001b[0m\u001b[0m\n\u001b[1;32m    331\u001b[0m         \u001b[0;32mfor\u001b[0m \u001b[0mevent\u001b[0m \u001b[0;32min\u001b[0m \u001b[0mself\u001b[0m\u001b[0;34m.\u001b[0m\u001b[0mgame_logics\u001b[0m\u001b[0;34m[\u001b[0m\u001b[0maction\u001b[0m\u001b[0;34m]\u001b[0m\u001b[0;34m[\u001b[0m\u001b[0;34m'preceeding_events'\u001b[0m\u001b[0;34m]\u001b[0m\u001b[0;34m:\u001b[0m\u001b[0;34m\u001b[0m\u001b[0;34m\u001b[0m\u001b[0m\n",
            "\u001b[0;31mException\u001b[0m: You must obtain maps before perform the action"
          ]
        }
      ],
      "source": [
        "#move to general forest\n",
        "replay_game_engine.world.move_node(replay_game_engine.world.find_node(\"Player\"), replay_game_engine.world.find_node(\"forest\"))\n",
        "user_friendly_action_interpreter(\"found werewolf den with map, torch\", 'adventurer find the werewolf den with maps, torch')\n"
      ]
    },
    {
      "attachments": {},
      "cell_type": "markdown",
      "metadata": {
        "id": "ZbeU4Ynaz866"
      },
      "source": [
        "#### Potential bugs"
      ]
    },
    {
      "cell_type": "code",
      "execution_count": null,
      "metadata": {
        "colab": {
          "base_uri": "https://localhost:8080/"
        },
        "id": "4Sl6eb53iuX3",
        "outputId": "33ee0c65-6e95-4b15-b626-93e0850a8edd"
      },
      "outputs": [
        {
          "name": "stdout",
          "output_type": "stream",
          "text": [
            "Room(library-be6c279a-6134-4345-99db-851e42943fbb, library, You are at library)\n",
            "Room(library-be6c279a-6134-4345-99db-851e42943fbb, library, You are at library)\n"
          ]
        }
      ],
      "source": [
        "#the high level wrapper seems to be buggy for the replay_game_engine, works fine for game_engine. It doesn't throw error either\n",
        "print(replay_game_engine.world.find_node(\"book\").container)\n",
        "MoveNodeOperation(replay_game_engine.world, \"book\", \"village hall\")\n",
        "print(replay_game_engine.world.find_node(\"book\").container)"
      ]
    },
    {
      "attachments": {},
      "cell_type": "markdown",
      "metadata": {
        "id": "62ldCvvuJfab"
      },
      "source": [
        "in game replay if two template start with the same prefix. It matches to the first template which may be wrong\n",
        "\n",
        "e.g. template list defaultdict(int,\n",
        "            {'spoke with {enum(npc)}': 1,\n",
        "             'reads {enum(object)}': 2,\n",
        "             'found {object1}': 3,\n",
        "             'took {object1}': 4,\n",
        "             'found {room1} with {enum(object)}': 5})\n",
        "\n",
        "target action: \"found werewolf den with map, torch\" will match 'found {object1}' "
      ]
    },
    {
      "cell_type": "code",
      "execution_count": null,
      "metadata": {
        "id": "JwKBGcl3JdPq"
      },
      "outputs": [],
      "source": []
    },
    {
      "attachments": {},
      "cell_type": "markdown",
      "metadata": {
        "id": "xMU8iLF_FG_B"
      },
      "source": [
        "## TODO\n",
        "\n",
        "export the game to json file.\n",
        "\n",
        "    implement save/load for every subclass "
      ]
    },
    {
      "cell_type": "code",
      "execution_count": null,
      "metadata": {
        "id": "wWmXensiyEWE"
      },
      "outputs": [],
      "source": []
    }
  ],
  "metadata": {
    "colab": {
      "collapsed_sections": [
        "UCfPTOCA0s5w"
      ],
      "provenance": []
    },
    "kernelspec": {
      "display_name": "Python 3",
      "name": "python3"
    },
    "language_info": {
      "codemirror_mode": {
        "name": "ipython",
        "version": 3
      },
      "file_extension": ".py",
      "mimetype": "text/x-python",
      "name": "python",
      "nbconvert_exporter": "python",
      "pygments_lexer": "ipython3",
      "version": "3.11.2"
    }
  },
  "nbformat": 4,
  "nbformat_minor": 0
}
